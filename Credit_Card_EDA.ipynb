{
 "cells": [
  {
   "cell_type": "markdown",
   "id": "eba0254e",
   "metadata": {},
   "source": [
    "# Exploratory Data Analysis For Credit Card Data"
   ]
  },
  {
   "cell_type": "markdown",
   "id": "fc8e1210",
   "metadata": {},
   "source": [
    "Business Problem:\n",
    "\n",
    "\n",
    "In order to effectively produce quality decisions in the modern credit card industry, knowledge must be gained through effective data analysis and modelling. Through the use of dynamic data-driven decision-making tools and procedures, information can be gathered to successfully evaluate all aspects of credit card operations. PSPD Bank has banking operations in more than 50 countries across the globe. Mr. Jim Watson, CEO, wants to evaluate areas of bankruptcy, fraud and collections, respond to customer requests for help with proactive offers and services.\n",
    "\n",
    "Following are some of Mr. Watson's questionsn to understand the customer spend and repayment behaviour"
   ]
  },
  {
   "cell_type": "code",
   "execution_count": 1,
   "id": "17cb3aae",
   "metadata": {},
   "outputs": [],
   "source": [
    "#Import necessary libraries¶\n",
    "\n",
    "import pandas as pd\n",
    "import numpy as np\n",
    "import matplotlib.pyplot as plt\n",
    "import seaborn as sns\n",
    "%matplotlib inline\n",
    "import os"
   ]
  },
  {
   "cell_type": "code",
   "execution_count": 2,
   "id": "240dc133",
   "metadata": {},
   "outputs": [],
   "source": [
    "customer = pd.read_csv(\"Customer Acqusition.csv\",usecols=[\"Customer\",\"Age\",\"City\",\"Product\",\"Limit\",\"Company\",\"Segment\"])\n",
    "repay = pd.read_csv(\"Repayment.csv\",usecols = [\"Customer\",\"Month\",\"Amount\"])\n",
    "spend = pd.read_csv(\"spend.csv\",usecols=[\"Customer\",\"Month\",\"Type\",\"Amount\"])"
   ]
  },
  {
   "cell_type": "markdown",
   "id": "5d1588bb",
   "metadata": {},
   "source": [
    "Here a we have 3 different files for credit card analysis i.e. Customer, Repayment & Spend and these are store in 3 different variables"
   ]
  },
  {
   "cell_type": "code",
   "execution_count": 3,
   "id": "bbf7058b",
   "metadata": {},
   "outputs": [
    {
     "data": {
      "text/html": [
       "<div>\n",
       "<style scoped>\n",
       "    .dataframe tbody tr th:only-of-type {\n",
       "        vertical-align: middle;\n",
       "    }\n",
       "\n",
       "    .dataframe tbody tr th {\n",
       "        vertical-align: top;\n",
       "    }\n",
       "\n",
       "    .dataframe thead th {\n",
       "        text-align: right;\n",
       "    }\n",
       "</style>\n",
       "<table border=\"1\" class=\"dataframe\">\n",
       "  <thead>\n",
       "    <tr style=\"text-align: right;\">\n",
       "      <th></th>\n",
       "      <th>Customer</th>\n",
       "      <th>Age</th>\n",
       "      <th>City</th>\n",
       "      <th>Product</th>\n",
       "      <th>Limit</th>\n",
       "      <th>Company</th>\n",
       "      <th>Segment</th>\n",
       "    </tr>\n",
       "  </thead>\n",
       "  <tbody>\n",
       "    <tr>\n",
       "      <th>0</th>\n",
       "      <td>A1</td>\n",
       "      <td>76</td>\n",
       "      <td>BANGALORE</td>\n",
       "      <td>Gold</td>\n",
       "      <td>500000.0</td>\n",
       "      <td>C1</td>\n",
       "      <td>Self Employed</td>\n",
       "    </tr>\n",
       "    <tr>\n",
       "      <th>1</th>\n",
       "      <td>A2</td>\n",
       "      <td>71</td>\n",
       "      <td>CALCUTTA</td>\n",
       "      <td>Silver</td>\n",
       "      <td>100000.0</td>\n",
       "      <td>C2</td>\n",
       "      <td>Salaried_MNC</td>\n",
       "    </tr>\n",
       "    <tr>\n",
       "      <th>2</th>\n",
       "      <td>A3</td>\n",
       "      <td>34</td>\n",
       "      <td>COCHIN</td>\n",
       "      <td>Platimum</td>\n",
       "      <td>10000.0</td>\n",
       "      <td>C3</td>\n",
       "      <td>Salaried_Pvt</td>\n",
       "    </tr>\n",
       "    <tr>\n",
       "      <th>3</th>\n",
       "      <td>A4</td>\n",
       "      <td>47</td>\n",
       "      <td>BOMBAY</td>\n",
       "      <td>Platimum</td>\n",
       "      <td>10001.0</td>\n",
       "      <td>C4</td>\n",
       "      <td>Govt</td>\n",
       "    </tr>\n",
       "    <tr>\n",
       "      <th>4</th>\n",
       "      <td>A5</td>\n",
       "      <td>56</td>\n",
       "      <td>BANGALORE</td>\n",
       "      <td>Platimum</td>\n",
       "      <td>10002.0</td>\n",
       "      <td>C5</td>\n",
       "      <td>Normal Salary</td>\n",
       "    </tr>\n",
       "  </tbody>\n",
       "</table>\n",
       "</div>"
      ],
      "text/plain": [
       "  Customer  Age       City   Product     Limit Company        Segment\n",
       "0       A1   76  BANGALORE      Gold  500000.0      C1  Self Employed\n",
       "1       A2   71   CALCUTTA    Silver  100000.0      C2   Salaried_MNC\n",
       "2       A3   34     COCHIN  Platimum   10000.0      C3   Salaried_Pvt\n",
       "3       A4   47     BOMBAY  Platimum   10001.0      C4           Govt\n",
       "4       A5   56  BANGALORE  Platimum   10002.0      C5  Normal Salary"
      ]
     },
     "execution_count": 3,
     "metadata": {},
     "output_type": "execute_result"
    }
   ],
   "source": [
    "customer.head()"
   ]
  },
  {
   "cell_type": "code",
   "execution_count": 4,
   "id": "ce8f26b7",
   "metadata": {},
   "outputs": [
    {
     "data": {
      "text/html": [
       "<div>\n",
       "<style scoped>\n",
       "    .dataframe tbody tr th:only-of-type {\n",
       "        vertical-align: middle;\n",
       "    }\n",
       "\n",
       "    .dataframe tbody tr th {\n",
       "        vertical-align: top;\n",
       "    }\n",
       "\n",
       "    .dataframe thead th {\n",
       "        text-align: right;\n",
       "    }\n",
       "</style>\n",
       "<table border=\"1\" class=\"dataframe\">\n",
       "  <thead>\n",
       "    <tr style=\"text-align: right;\">\n",
       "      <th></th>\n",
       "      <th>Customer</th>\n",
       "      <th>Month</th>\n",
       "      <th>Amount</th>\n",
       "    </tr>\n",
       "  </thead>\n",
       "  <tbody>\n",
       "    <tr>\n",
       "      <th>0</th>\n",
       "      <td>A1</td>\n",
       "      <td>12-Jan-04</td>\n",
       "      <td>495414.75</td>\n",
       "    </tr>\n",
       "    <tr>\n",
       "      <th>1</th>\n",
       "      <td>A1</td>\n",
       "      <td>3-Jan-04</td>\n",
       "      <td>245899.02</td>\n",
       "    </tr>\n",
       "    <tr>\n",
       "      <th>2</th>\n",
       "      <td>A1</td>\n",
       "      <td>15-Jan-04</td>\n",
       "      <td>259490.06</td>\n",
       "    </tr>\n",
       "    <tr>\n",
       "      <th>3</th>\n",
       "      <td>A1</td>\n",
       "      <td>25-Jan-04</td>\n",
       "      <td>437555.12</td>\n",
       "    </tr>\n",
       "    <tr>\n",
       "      <th>4</th>\n",
       "      <td>A1</td>\n",
       "      <td>17-Jan-05</td>\n",
       "      <td>165972.88</td>\n",
       "    </tr>\n",
       "  </tbody>\n",
       "</table>\n",
       "</div>"
      ],
      "text/plain": [
       "  Customer      Month     Amount\n",
       "0       A1  12-Jan-04  495414.75\n",
       "1       A1   3-Jan-04  245899.02\n",
       "2       A1  15-Jan-04  259490.06\n",
       "3       A1  25-Jan-04  437555.12\n",
       "4       A1  17-Jan-05  165972.88"
      ]
     },
     "execution_count": 4,
     "metadata": {},
     "output_type": "execute_result"
    }
   ],
   "source": [
    "repay.head()"
   ]
  },
  {
   "cell_type": "code",
   "execution_count": 5,
   "id": "456bf9f0",
   "metadata": {},
   "outputs": [
    {
     "data": {
      "text/html": [
       "<div>\n",
       "<style scoped>\n",
       "    .dataframe tbody tr th:only-of-type {\n",
       "        vertical-align: middle;\n",
       "    }\n",
       "\n",
       "    .dataframe tbody tr th {\n",
       "        vertical-align: top;\n",
       "    }\n",
       "\n",
       "    .dataframe thead th {\n",
       "        text-align: right;\n",
       "    }\n",
       "</style>\n",
       "<table border=\"1\" class=\"dataframe\">\n",
       "  <thead>\n",
       "    <tr style=\"text-align: right;\">\n",
       "      <th></th>\n",
       "      <th>Customer</th>\n",
       "      <th>Month</th>\n",
       "      <th>Type</th>\n",
       "      <th>Amount</th>\n",
       "    </tr>\n",
       "  </thead>\n",
       "  <tbody>\n",
       "    <tr>\n",
       "      <th>0</th>\n",
       "      <td>A1</td>\n",
       "      <td>12-Jan-04</td>\n",
       "      <td>JEWELLERY</td>\n",
       "      <td>485470.80</td>\n",
       "    </tr>\n",
       "    <tr>\n",
       "      <th>1</th>\n",
       "      <td>A1</td>\n",
       "      <td>3-Jan-04</td>\n",
       "      <td>PETRO</td>\n",
       "      <td>410556.13</td>\n",
       "    </tr>\n",
       "    <tr>\n",
       "      <th>2</th>\n",
       "      <td>A1</td>\n",
       "      <td>15-Jan-04</td>\n",
       "      <td>CLOTHES</td>\n",
       "      <td>23740.46</td>\n",
       "    </tr>\n",
       "    <tr>\n",
       "      <th>3</th>\n",
       "      <td>A1</td>\n",
       "      <td>25-Jan-04</td>\n",
       "      <td>FOOD</td>\n",
       "      <td>484342.47</td>\n",
       "    </tr>\n",
       "    <tr>\n",
       "      <th>4</th>\n",
       "      <td>A1</td>\n",
       "      <td>17-Jan-05</td>\n",
       "      <td>CAMERA</td>\n",
       "      <td>369694.07</td>\n",
       "    </tr>\n",
       "  </tbody>\n",
       "</table>\n",
       "</div>"
      ],
      "text/plain": [
       "  Customer      Month       Type     Amount\n",
       "0       A1  12-Jan-04  JEWELLERY  485470.80\n",
       "1       A1   3-Jan-04      PETRO  410556.13\n",
       "2       A1  15-Jan-04    CLOTHES   23740.46\n",
       "3       A1  25-Jan-04       FOOD  484342.47\n",
       "4       A1  17-Jan-05     CAMERA  369694.07"
      ]
     },
     "execution_count": 5,
     "metadata": {},
     "output_type": "execute_result"
    }
   ],
   "source": [
    "spend.head()"
   ]
  },
  {
   "cell_type": "code",
   "execution_count": 6,
   "id": "7fc00f6d",
   "metadata": {},
   "outputs": [
    {
     "name": "stdout",
     "output_type": "stream",
     "text": [
      "(100, 7)\n",
      "(1523, 3)\n",
      "(1500, 4)\n"
     ]
    }
   ],
   "source": [
    "print(customer.shape)\n",
    "print(repay.shape)\n",
    "print(spend.shape)"
   ]
  },
  {
   "cell_type": "markdown",
   "id": "b192c5cd",
   "metadata": {},
   "source": [
    "in this datasets,\n",
    "\n",
    "Customer has 100 Rows & 7 Columns\n",
    "\n",
    "repay has 1523 Rows & 3 Columns\n",
    "\n",
    "spend has 1500 Rows & 4 Columns"
   ]
  },
  {
   "cell_type": "code",
   "execution_count": 7,
   "id": "1a10b247",
   "metadata": {},
   "outputs": [
    {
     "name": "stdout",
     "output_type": "stream",
     "text": [
      "<class 'pandas.core.frame.DataFrame'>\n",
      "RangeIndex: 100 entries, 0 to 99\n",
      "Data columns (total 7 columns):\n",
      " #   Column    Non-Null Count  Dtype  \n",
      "---  ------    --------------  -----  \n",
      " 0   Customer  100 non-null    object \n",
      " 1   Age       100 non-null    int64  \n",
      " 2   City      100 non-null    object \n",
      " 3   Product   100 non-null    object \n",
      " 4   Limit     100 non-null    float64\n",
      " 5   Company   100 non-null    object \n",
      " 6   Segment   100 non-null    object \n",
      "dtypes: float64(1), int64(1), object(5)\n",
      "memory usage: 5.6+ KB\n"
     ]
    }
   ],
   "source": [
    "customer.info()"
   ]
  },
  {
   "cell_type": "code",
   "execution_count": 8,
   "id": "97878741",
   "metadata": {},
   "outputs": [
    {
     "name": "stdout",
     "output_type": "stream",
     "text": [
      "<class 'pandas.core.frame.DataFrame'>\n",
      "RangeIndex: 1523 entries, 0 to 1522\n",
      "Data columns (total 3 columns):\n",
      " #   Column    Non-Null Count  Dtype  \n",
      "---  ------    --------------  -----  \n",
      " 0   Customer  1500 non-null   object \n",
      " 1   Month     1500 non-null   object \n",
      " 2   Amount    1500 non-null   float64\n",
      "dtypes: float64(1), object(2)\n",
      "memory usage: 35.8+ KB\n"
     ]
    }
   ],
   "source": [
    "repay.info()"
   ]
  },
  {
   "cell_type": "code",
   "execution_count": 9,
   "id": "d29c3355",
   "metadata": {},
   "outputs": [
    {
     "name": "stdout",
     "output_type": "stream",
     "text": [
      "<class 'pandas.core.frame.DataFrame'>\n",
      "RangeIndex: 1500 entries, 0 to 1499\n",
      "Data columns (total 4 columns):\n",
      " #   Column    Non-Null Count  Dtype  \n",
      "---  ------    --------------  -----  \n",
      " 0   Customer  1500 non-null   object \n",
      " 1   Month     1500 non-null   object \n",
      " 2   Type      1500 non-null   object \n",
      " 3   Amount    1500 non-null   float64\n",
      "dtypes: float64(1), object(3)\n",
      "memory usage: 47.0+ KB\n"
     ]
    }
   ],
   "source": [
    "spend.info()"
   ]
  },
  {
   "cell_type": "markdown",
   "id": "455987d2",
   "metadata": {},
   "source": [
    "# Finding Null values in our Datasets"
   ]
  },
  {
   "cell_type": "code",
   "execution_count": 10,
   "id": "823e0c43",
   "metadata": {},
   "outputs": [
    {
     "data": {
      "text/plain": [
       "Customer    0\n",
       "Age         0\n",
       "City        0\n",
       "Product     0\n",
       "Limit       0\n",
       "Company     0\n",
       "Segment     0\n",
       "dtype: int64"
      ]
     },
     "execution_count": 10,
     "metadata": {},
     "output_type": "execute_result"
    }
   ],
   "source": [
    "customer.isnull().sum()"
   ]
  },
  {
   "cell_type": "markdown",
   "id": "3cb53af3",
   "metadata": {},
   "source": [
    "This dataset doesn't have Null values"
   ]
  },
  {
   "cell_type": "code",
   "execution_count": 11,
   "id": "2f33210e",
   "metadata": {},
   "outputs": [
    {
     "data": {
      "text/plain": [
       "Customer    23\n",
       "Month       23\n",
       "Amount      23\n",
       "dtype: int64"
      ]
     },
     "execution_count": 11,
     "metadata": {},
     "output_type": "execute_result"
    }
   ],
   "source": [
    "repay.isnull().sum()"
   ]
  },
  {
   "cell_type": "markdown",
   "id": "cfd8ce5d",
   "metadata": {},
   "source": [
    "This dataset has Null values"
   ]
  },
  {
   "cell_type": "code",
   "execution_count": 12,
   "id": "2632b9b4",
   "metadata": {},
   "outputs": [
    {
     "data": {
      "text/plain": [
       "Customer    0\n",
       "Month       0\n",
       "Type        0\n",
       "Amount      0\n",
       "dtype: int64"
      ]
     },
     "execution_count": 12,
     "metadata": {},
     "output_type": "execute_result"
    }
   ],
   "source": [
    "spend.isnull().sum()"
   ]
  },
  {
   "cell_type": "markdown",
   "id": "b50343fa",
   "metadata": {},
   "source": [
    "This dataset doesn't have Null values"
   ]
  },
  {
   "cell_type": "code",
   "execution_count": 13,
   "id": "70ec9a31",
   "metadata": {},
   "outputs": [],
   "source": [
    "# dropping null values present in 'repay' data set\n",
    "\n",
    "repay.dropna(inplace=True)"
   ]
  },
  {
   "cell_type": "code",
   "execution_count": 19,
   "id": "3c3605d1",
   "metadata": {},
   "outputs": [
    {
     "data": {
      "text/plain": [
       "Customer    0\n",
       "Month       0\n",
       "Amount      0\n",
       "dtype: int64"
      ]
     },
     "execution_count": 19,
     "metadata": {},
     "output_type": "execute_result"
    }
   ],
   "source": [
    "repay.isnull().sum()"
   ]
  },
  {
   "cell_type": "markdown",
   "id": "e9177bef",
   "metadata": {},
   "source": [
    "**(A) In case age is less than 18, replace it with mean of age values from Customer dataset**"
   ]
  },
  {
   "cell_type": "code",
   "execution_count": 26,
   "id": "dce4de3b",
   "metadata": {},
   "outputs": [
    {
     "data": {
      "text/html": [
       "<div>\n",
       "<style scoped>\n",
       "    .dataframe tbody tr th:only-of-type {\n",
       "        vertical-align: middle;\n",
       "    }\n",
       "\n",
       "    .dataframe tbody tr th {\n",
       "        vertical-align: top;\n",
       "    }\n",
       "\n",
       "    .dataframe thead th {\n",
       "        text-align: right;\n",
       "    }\n",
       "</style>\n",
       "<table border=\"1\" class=\"dataframe\">\n",
       "  <thead>\n",
       "    <tr style=\"text-align: right;\">\n",
       "      <th></th>\n",
       "      <th>Customer</th>\n",
       "      <th>Age</th>\n",
       "      <th>City</th>\n",
       "      <th>Product</th>\n",
       "      <th>Limit</th>\n",
       "      <th>Company</th>\n",
       "      <th>Segment</th>\n",
       "    </tr>\n",
       "  </thead>\n",
       "  <tbody>\n",
       "    <tr>\n",
       "      <th>67</th>\n",
       "      <td>A68</td>\n",
       "      <td>12</td>\n",
       "      <td>TRIVANDRUM</td>\n",
       "      <td>Silver</td>\n",
       "      <td>100000.0</td>\n",
       "      <td>C30</td>\n",
       "      <td>Self Employed</td>\n",
       "    </tr>\n",
       "    <tr>\n",
       "      <th>40</th>\n",
       "      <td>A41</td>\n",
       "      <td>13</td>\n",
       "      <td>COCHIN</td>\n",
       "      <td>Platimum</td>\n",
       "      <td>500000.0</td>\n",
       "      <td>C23</td>\n",
       "      <td>Govt</td>\n",
       "    </tr>\n",
       "    <tr>\n",
       "      <th>62</th>\n",
       "      <td>A63</td>\n",
       "      <td>15</td>\n",
       "      <td>BANGALORE</td>\n",
       "      <td>Gold</td>\n",
       "      <td>500000.0</td>\n",
       "      <td>C25</td>\n",
       "      <td>Self Employed</td>\n",
       "    </tr>\n",
       "    <tr>\n",
       "      <th>89</th>\n",
       "      <td>A90</td>\n",
       "      <td>16</td>\n",
       "      <td>COCHIN</td>\n",
       "      <td>Gold</td>\n",
       "      <td>500000.0</td>\n",
       "      <td>C13</td>\n",
       "      <td>Govt</td>\n",
       "    </tr>\n",
       "    <tr>\n",
       "      <th>13</th>\n",
       "      <td>A14</td>\n",
       "      <td>16</td>\n",
       "      <td>BANGALORE</td>\n",
       "      <td>Gold</td>\n",
       "      <td>500000.0</td>\n",
       "      <td>C14</td>\n",
       "      <td>Salaried_Pvt</td>\n",
       "    </tr>\n",
       "    <tr>\n",
       "      <th>...</th>\n",
       "      <td>...</td>\n",
       "      <td>...</td>\n",
       "      <td>...</td>\n",
       "      <td>...</td>\n",
       "      <td>...</td>\n",
       "      <td>...</td>\n",
       "      <td>...</td>\n",
       "    </tr>\n",
       "    <tr>\n",
       "      <th>63</th>\n",
       "      <td>A64</td>\n",
       "      <td>77</td>\n",
       "      <td>DELHI</td>\n",
       "      <td>Gold</td>\n",
       "      <td>500000.0</td>\n",
       "      <td>C26</td>\n",
       "      <td>Salaried_MNC</td>\n",
       "    </tr>\n",
       "    <tr>\n",
       "      <th>91</th>\n",
       "      <td>A92</td>\n",
       "      <td>78</td>\n",
       "      <td>BANGALORE</td>\n",
       "      <td>Gold</td>\n",
       "      <td>500000.0</td>\n",
       "      <td>C15</td>\n",
       "      <td>Govt</td>\n",
       "    </tr>\n",
       "    <tr>\n",
       "      <th>38</th>\n",
       "      <td>A39</td>\n",
       "      <td>78</td>\n",
       "      <td>TRIVANDRUM</td>\n",
       "      <td>Platimum</td>\n",
       "      <td>500000.0</td>\n",
       "      <td>C21</td>\n",
       "      <td>Salaried_MNC</td>\n",
       "    </tr>\n",
       "    <tr>\n",
       "      <th>16</th>\n",
       "      <td>A17</td>\n",
       "      <td>78</td>\n",
       "      <td>BOMBAY</td>\n",
       "      <td>Gold</td>\n",
       "      <td>500000.0</td>\n",
       "      <td>C17</td>\n",
       "      <td>Self Employed</td>\n",
       "    </tr>\n",
       "    <tr>\n",
       "      <th>8</th>\n",
       "      <td>A9</td>\n",
       "      <td>79</td>\n",
       "      <td>CHENNAI</td>\n",
       "      <td>Silver</td>\n",
       "      <td>100003.0</td>\n",
       "      <td>C9</td>\n",
       "      <td>Govt</td>\n",
       "    </tr>\n",
       "  </tbody>\n",
       "</table>\n",
       "<p>100 rows × 7 columns</p>\n",
       "</div>"
      ],
      "text/plain": [
       "   Customer  Age        City   Product     Limit Company        Segment\n",
       "67      A68   12  TRIVANDRUM    Silver  100000.0     C30  Self Employed\n",
       "40      A41   13      COCHIN  Platimum  500000.0     C23           Govt\n",
       "62      A63   15   BANGALORE      Gold  500000.0     C25  Self Employed\n",
       "89      A90   16      COCHIN      Gold  500000.0     C13           Govt\n",
       "13      A14   16   BANGALORE      Gold  500000.0     C14   Salaried_Pvt\n",
       "..      ...  ...         ...       ...       ...     ...            ...\n",
       "63      A64   77       DELHI      Gold  500000.0     C26   Salaried_MNC\n",
       "91      A92   78   BANGALORE      Gold  500000.0     C15           Govt\n",
       "38      A39   78  TRIVANDRUM  Platimum  500000.0     C21   Salaried_MNC\n",
       "16      A17   78      BOMBAY      Gold  500000.0     C17  Self Employed\n",
       "8        A9   79     CHENNAI    Silver  100003.0      C9           Govt\n",
       "\n",
       "[100 rows x 7 columns]"
      ]
     },
     "execution_count": 26,
     "metadata": {},
     "output_type": "execute_result"
    }
   ],
   "source": [
    "customer.sort_values(by= 'Age')"
   ]
  },
  {
   "cell_type": "code",
   "execution_count": 27,
   "id": "a2bed3e8",
   "metadata": {},
   "outputs": [],
   "source": [
    "mean_original = customer[\"Age\"].mean()"
   ]
  },
  {
   "cell_type": "code",
   "execution_count": 28,
   "id": "9eea5742",
   "metadata": {},
   "outputs": [
    {
     "name": "stdout",
     "output_type": "stream",
     "text": [
      "The mean of Age column is 46.49\n"
     ]
    }
   ],
   "source": [
    "print(\"The mean of Age column is\",mean_original)"
   ]
  },
  {
   "cell_type": "markdown",
   "id": "505d8304",
   "metadata": {},
   "source": [
    "As we are all know , Credid card has issue only for those person who has completed their Age 18+, so that's why it is important to find if datasets contain customer's whose age is less than 18."
   ]
  },
  {
   "cell_type": "code",
   "execution_count": 29,
   "id": "b1944f15",
   "metadata": {},
   "outputs": [],
   "source": [
    "#replacing age less than 18 with mean of age values\n",
    "\n",
    "customer.loc[customer[\"Age\"] < 18,\"Age\"] = customer[\"Age\"].mean()"
   ]
  },
  {
   "cell_type": "code",
   "execution_count": 30,
   "id": "36780a40",
   "metadata": {},
   "outputs": [],
   "source": [
    "mean_new = customer[\"Age\"].mean()"
   ]
  },
  {
   "cell_type": "code",
   "execution_count": 31,
   "id": "8ac56a34",
   "metadata": {},
   "outputs": [
    {
     "name": "stdout",
     "output_type": "stream",
     "text": [
      "The mean of Age column is 48.39940000000001\n"
     ]
    }
   ],
   "source": [
    "print(\"The mean of Age column is\",mean_new)"
   ]
  },
  {
   "cell_type": "markdown",
   "id": "aca714bb",
   "metadata": {},
   "source": [
    "From this , we can observed \n",
    "\n",
    "Original mean has value = 46.49\n",
    "\n",
    "and after replacing mean value to age who is having less than 18, then new mean we got is\n",
    "\n",
    "New Mean = 48.399.\n",
    "\n",
    "Which means that , we had Age value less than 18 in our dataset."
   ]
  },
  {
   "cell_type": "code",
   "execution_count": 32,
   "id": "d1dcc16b",
   "metadata": {},
   "outputs": [
    {
     "data": {
      "text/plain": [
       "Series([], Name: Age, dtype: float64)"
      ]
     },
     "execution_count": 32,
     "metadata": {},
     "output_type": "execute_result"
    }
   ],
   "source": [
    "customer.loc[customer[\"Age\"] < 18,\"Age\"]"
   ]
  },
  {
   "cell_type": "code",
   "execution_count": 33,
   "id": "26fa2dfa",
   "metadata": {},
   "outputs": [
    {
     "name": "stdout",
     "output_type": "stream",
     "text": [
      "All the customers who have age less than 18 have been replaced by mean of the age column.\n"
     ]
    }
   ],
   "source": [
    "print(\"All the customers who have age less than 18 have been replaced by mean of the age column.\")"
   ]
  },
  {
   "cell_type": "code",
   "execution_count": 34,
   "id": "93788ebd",
   "metadata": {},
   "outputs": [
    {
     "data": {
      "text/html": [
       "<div>\n",
       "<style scoped>\n",
       "    .dataframe tbody tr th:only-of-type {\n",
       "        vertical-align: middle;\n",
       "    }\n",
       "\n",
       "    .dataframe tbody tr th {\n",
       "        vertical-align: top;\n",
       "    }\n",
       "\n",
       "    .dataframe thead th {\n",
       "        text-align: right;\n",
       "    }\n",
       "</style>\n",
       "<table border=\"1\" class=\"dataframe\">\n",
       "  <thead>\n",
       "    <tr style=\"text-align: right;\">\n",
       "      <th></th>\n",
       "      <th>Customer</th>\n",
       "      <th>Age</th>\n",
       "      <th>City</th>\n",
       "      <th>Product</th>\n",
       "      <th>Limit</th>\n",
       "      <th>Company</th>\n",
       "      <th>Segment</th>\n",
       "    </tr>\n",
       "  </thead>\n",
       "  <tbody>\n",
       "    <tr>\n",
       "      <th>0</th>\n",
       "      <td>A1</td>\n",
       "      <td>76.0</td>\n",
       "      <td>BANGALORE</td>\n",
       "      <td>Gold</td>\n",
       "      <td>500000.0</td>\n",
       "      <td>C1</td>\n",
       "      <td>Self Employed</td>\n",
       "    </tr>\n",
       "    <tr>\n",
       "      <th>1</th>\n",
       "      <td>A2</td>\n",
       "      <td>71.0</td>\n",
       "      <td>CALCUTTA</td>\n",
       "      <td>Silver</td>\n",
       "      <td>100000.0</td>\n",
       "      <td>C2</td>\n",
       "      <td>Salaried_MNC</td>\n",
       "    </tr>\n",
       "    <tr>\n",
       "      <th>2</th>\n",
       "      <td>A3</td>\n",
       "      <td>34.0</td>\n",
       "      <td>COCHIN</td>\n",
       "      <td>Platimum</td>\n",
       "      <td>10000.0</td>\n",
       "      <td>C3</td>\n",
       "      <td>Salaried_Pvt</td>\n",
       "    </tr>\n",
       "    <tr>\n",
       "      <th>3</th>\n",
       "      <td>A4</td>\n",
       "      <td>47.0</td>\n",
       "      <td>BOMBAY</td>\n",
       "      <td>Platimum</td>\n",
       "      <td>10001.0</td>\n",
       "      <td>C4</td>\n",
       "      <td>Govt</td>\n",
       "    </tr>\n",
       "    <tr>\n",
       "      <th>4</th>\n",
       "      <td>A5</td>\n",
       "      <td>56.0</td>\n",
       "      <td>BANGALORE</td>\n",
       "      <td>Platimum</td>\n",
       "      <td>10002.0</td>\n",
       "      <td>C5</td>\n",
       "      <td>Normal Salary</td>\n",
       "    </tr>\n",
       "  </tbody>\n",
       "</table>\n",
       "</div>"
      ],
      "text/plain": [
       "  Customer   Age       City   Product     Limit Company        Segment\n",
       "0       A1  76.0  BANGALORE      Gold  500000.0      C1  Self Employed\n",
       "1       A2  71.0   CALCUTTA    Silver  100000.0      C2   Salaried_MNC\n",
       "2       A3  34.0     COCHIN  Platimum   10000.0      C3   Salaried_Pvt\n",
       "3       A4  47.0     BOMBAY  Platimum   10001.0      C4           Govt\n",
       "4       A5  56.0  BANGALORE  Platimum   10002.0      C5  Normal Salary"
      ]
     },
     "execution_count": 34,
     "metadata": {},
     "output_type": "execute_result"
    }
   ],
   "source": [
    "customer.head()"
   ]
  },
  {
   "cell_type": "code",
   "execution_count": 35,
   "id": "184fd92c",
   "metadata": {},
   "outputs": [
    {
     "data": {
      "text/html": [
       "<div>\n",
       "<style scoped>\n",
       "    .dataframe tbody tr th:only-of-type {\n",
       "        vertical-align: middle;\n",
       "    }\n",
       "\n",
       "    .dataframe tbody tr th {\n",
       "        vertical-align: top;\n",
       "    }\n",
       "\n",
       "    .dataframe thead th {\n",
       "        text-align: right;\n",
       "    }\n",
       "</style>\n",
       "<table border=\"1\" class=\"dataframe\">\n",
       "  <thead>\n",
       "    <tr style=\"text-align: right;\">\n",
       "      <th></th>\n",
       "      <th>Customer</th>\n",
       "      <th>Month</th>\n",
       "      <th>Type</th>\n",
       "      <th>Amount</th>\n",
       "    </tr>\n",
       "  </thead>\n",
       "  <tbody>\n",
       "    <tr>\n",
       "      <th>0</th>\n",
       "      <td>A1</td>\n",
       "      <td>12-Jan-04</td>\n",
       "      <td>JEWELLERY</td>\n",
       "      <td>485470.80</td>\n",
       "    </tr>\n",
       "    <tr>\n",
       "      <th>1</th>\n",
       "      <td>A1</td>\n",
       "      <td>3-Jan-04</td>\n",
       "      <td>PETRO</td>\n",
       "      <td>410556.13</td>\n",
       "    </tr>\n",
       "    <tr>\n",
       "      <th>2</th>\n",
       "      <td>A1</td>\n",
       "      <td>15-Jan-04</td>\n",
       "      <td>CLOTHES</td>\n",
       "      <td>23740.46</td>\n",
       "    </tr>\n",
       "    <tr>\n",
       "      <th>3</th>\n",
       "      <td>A1</td>\n",
       "      <td>25-Jan-04</td>\n",
       "      <td>FOOD</td>\n",
       "      <td>484342.47</td>\n",
       "    </tr>\n",
       "    <tr>\n",
       "      <th>4</th>\n",
       "      <td>A1</td>\n",
       "      <td>17-Jan-05</td>\n",
       "      <td>CAMERA</td>\n",
       "      <td>369694.07</td>\n",
       "    </tr>\n",
       "  </tbody>\n",
       "</table>\n",
       "</div>"
      ],
      "text/plain": [
       "  Customer      Month       Type     Amount\n",
       "0       A1  12-Jan-04  JEWELLERY  485470.80\n",
       "1       A1   3-Jan-04      PETRO  410556.13\n",
       "2       A1  15-Jan-04    CLOTHES   23740.46\n",
       "3       A1  25-Jan-04       FOOD  484342.47\n",
       "4       A1  17-Jan-05     CAMERA  369694.07"
      ]
     },
     "execution_count": 35,
     "metadata": {},
     "output_type": "execute_result"
    }
   ],
   "source": [
    "spend.head()"
   ]
  },
  {
   "cell_type": "code",
   "execution_count": 36,
   "id": "ce02cd83",
   "metadata": {},
   "outputs": [],
   "source": [
    "# Merging customer and spend table on the basis of \"Customer\" column\n",
    "\n",
    "customer_spend = pd.merge(left=customer,right=spend,on=\"Customer\",how=\"inner\")"
   ]
  },
  {
   "cell_type": "code",
   "execution_count": 37,
   "id": "2d1b5716",
   "metadata": {},
   "outputs": [
    {
     "data": {
      "text/html": [
       "<div>\n",
       "<style scoped>\n",
       "    .dataframe tbody tr th:only-of-type {\n",
       "        vertical-align: middle;\n",
       "    }\n",
       "\n",
       "    .dataframe tbody tr th {\n",
       "        vertical-align: top;\n",
       "    }\n",
       "\n",
       "    .dataframe thead th {\n",
       "        text-align: right;\n",
       "    }\n",
       "</style>\n",
       "<table border=\"1\" class=\"dataframe\">\n",
       "  <thead>\n",
       "    <tr style=\"text-align: right;\">\n",
       "      <th></th>\n",
       "      <th>Customer</th>\n",
       "      <th>Age</th>\n",
       "      <th>City</th>\n",
       "      <th>Product</th>\n",
       "      <th>Limit</th>\n",
       "      <th>Company</th>\n",
       "      <th>Segment</th>\n",
       "      <th>Month</th>\n",
       "      <th>Type</th>\n",
       "      <th>Amount</th>\n",
       "    </tr>\n",
       "  </thead>\n",
       "  <tbody>\n",
       "    <tr>\n",
       "      <th>0</th>\n",
       "      <td>A1</td>\n",
       "      <td>76.0</td>\n",
       "      <td>BANGALORE</td>\n",
       "      <td>Gold</td>\n",
       "      <td>500000.0</td>\n",
       "      <td>C1</td>\n",
       "      <td>Self Employed</td>\n",
       "      <td>12-Jan-04</td>\n",
       "      <td>JEWELLERY</td>\n",
       "      <td>485470.80</td>\n",
       "    </tr>\n",
       "    <tr>\n",
       "      <th>1</th>\n",
       "      <td>A1</td>\n",
       "      <td>76.0</td>\n",
       "      <td>BANGALORE</td>\n",
       "      <td>Gold</td>\n",
       "      <td>500000.0</td>\n",
       "      <td>C1</td>\n",
       "      <td>Self Employed</td>\n",
       "      <td>3-Jan-04</td>\n",
       "      <td>PETRO</td>\n",
       "      <td>410556.13</td>\n",
       "    </tr>\n",
       "    <tr>\n",
       "      <th>2</th>\n",
       "      <td>A1</td>\n",
       "      <td>76.0</td>\n",
       "      <td>BANGALORE</td>\n",
       "      <td>Gold</td>\n",
       "      <td>500000.0</td>\n",
       "      <td>C1</td>\n",
       "      <td>Self Employed</td>\n",
       "      <td>15-Jan-04</td>\n",
       "      <td>CLOTHES</td>\n",
       "      <td>23740.46</td>\n",
       "    </tr>\n",
       "    <tr>\n",
       "      <th>3</th>\n",
       "      <td>A1</td>\n",
       "      <td>76.0</td>\n",
       "      <td>BANGALORE</td>\n",
       "      <td>Gold</td>\n",
       "      <td>500000.0</td>\n",
       "      <td>C1</td>\n",
       "      <td>Self Employed</td>\n",
       "      <td>25-Jan-04</td>\n",
       "      <td>FOOD</td>\n",
       "      <td>484342.47</td>\n",
       "    </tr>\n",
       "    <tr>\n",
       "      <th>4</th>\n",
       "      <td>A1</td>\n",
       "      <td>76.0</td>\n",
       "      <td>BANGALORE</td>\n",
       "      <td>Gold</td>\n",
       "      <td>500000.0</td>\n",
       "      <td>C1</td>\n",
       "      <td>Self Employed</td>\n",
       "      <td>17-Jan-05</td>\n",
       "      <td>CAMERA</td>\n",
       "      <td>369694.07</td>\n",
       "    </tr>\n",
       "  </tbody>\n",
       "</table>\n",
       "</div>"
      ],
      "text/plain": [
       "  Customer   Age       City Product     Limit Company        Segment  \\\n",
       "0       A1  76.0  BANGALORE    Gold  500000.0      C1  Self Employed   \n",
       "1       A1  76.0  BANGALORE    Gold  500000.0      C1  Self Employed   \n",
       "2       A1  76.0  BANGALORE    Gold  500000.0      C1  Self Employed   \n",
       "3       A1  76.0  BANGALORE    Gold  500000.0      C1  Self Employed   \n",
       "4       A1  76.0  BANGALORE    Gold  500000.0      C1  Self Employed   \n",
       "\n",
       "       Month       Type     Amount  \n",
       "0  12-Jan-04  JEWELLERY  485470.80  \n",
       "1   3-Jan-04      PETRO  410556.13  \n",
       "2  15-Jan-04    CLOTHES   23740.46  \n",
       "3  25-Jan-04       FOOD  484342.47  \n",
       "4  17-Jan-05     CAMERA  369694.07  "
      ]
     },
     "execution_count": 37,
     "metadata": {},
     "output_type": "execute_result"
    }
   ],
   "source": [
    "customer_spend.head()"
   ]
  },
  {
   "cell_type": "code",
   "execution_count": 38,
   "id": "2b52ea9f",
   "metadata": {},
   "outputs": [
    {
     "data": {
      "text/plain": [
       "(1500, 10)"
      ]
     },
     "execution_count": 38,
     "metadata": {},
     "output_type": "execute_result"
    }
   ],
   "source": [
    "customer_spend.shape"
   ]
  },
  {
   "cell_type": "code",
   "execution_count": 39,
   "id": "70ee257a",
   "metadata": {},
   "outputs": [
    {
     "data": {
      "text/plain": [
       "Customer    0\n",
       "Age         0\n",
       "City        0\n",
       "Product     0\n",
       "Limit       0\n",
       "Company     0\n",
       "Segment     0\n",
       "Month       0\n",
       "Type        0\n",
       "Amount      0\n",
       "dtype: int64"
      ]
     },
     "execution_count": 39,
     "metadata": {},
     "output_type": "execute_result"
    }
   ],
   "source": [
    "customer_spend.isnull().sum()"
   ]
  },
  {
   "cell_type": "code",
   "execution_count": 40,
   "id": "1f4b9bd3",
   "metadata": {},
   "outputs": [
    {
     "data": {
      "text/html": [
       "<div>\n",
       "<style scoped>\n",
       "    .dataframe tbody tr th:only-of-type {\n",
       "        vertical-align: middle;\n",
       "    }\n",
       "\n",
       "    .dataframe tbody tr th {\n",
       "        vertical-align: top;\n",
       "    }\n",
       "\n",
       "    .dataframe thead th {\n",
       "        text-align: right;\n",
       "    }\n",
       "</style>\n",
       "<table border=\"1\" class=\"dataframe\">\n",
       "  <thead>\n",
       "    <tr style=\"text-align: right;\">\n",
       "      <th></th>\n",
       "      <th>Customer</th>\n",
       "      <th>Age</th>\n",
       "      <th>City</th>\n",
       "      <th>Product</th>\n",
       "      <th>Limit</th>\n",
       "      <th>Company</th>\n",
       "      <th>Segment</th>\n",
       "      <th>Month</th>\n",
       "      <th>Type</th>\n",
       "      <th>Amount</th>\n",
       "    </tr>\n",
       "  </thead>\n",
       "  <tbody>\n",
       "    <tr>\n",
       "      <th>18</th>\n",
       "      <td>A2</td>\n",
       "      <td>71.0</td>\n",
       "      <td>CALCUTTA</td>\n",
       "      <td>Silver</td>\n",
       "      <td>100000.0</td>\n",
       "      <td>C2</td>\n",
       "      <td>Salaried_MNC</td>\n",
       "      <td>3-Jan-04</td>\n",
       "      <td>RENTAL</td>\n",
       "      <td>199554.72</td>\n",
       "    </tr>\n",
       "    <tr>\n",
       "      <th>19</th>\n",
       "      <td>A2</td>\n",
       "      <td>71.0</td>\n",
       "      <td>CALCUTTA</td>\n",
       "      <td>Silver</td>\n",
       "      <td>100000.0</td>\n",
       "      <td>C2</td>\n",
       "      <td>Salaried_MNC</td>\n",
       "      <td>28-Feb-05</td>\n",
       "      <td>TRAIN TICKET</td>\n",
       "      <td>376887.49</td>\n",
       "    </tr>\n",
       "    <tr>\n",
       "      <th>20</th>\n",
       "      <td>A2</td>\n",
       "      <td>71.0</td>\n",
       "      <td>CALCUTTA</td>\n",
       "      <td>Silver</td>\n",
       "      <td>100000.0</td>\n",
       "      <td>C2</td>\n",
       "      <td>Salaried_MNC</td>\n",
       "      <td>6-Apr-04</td>\n",
       "      <td>BUS TICKET</td>\n",
       "      <td>439648.53</td>\n",
       "    </tr>\n",
       "    <tr>\n",
       "      <th>21</th>\n",
       "      <td>A2</td>\n",
       "      <td>71.0</td>\n",
       "      <td>CALCUTTA</td>\n",
       "      <td>Silver</td>\n",
       "      <td>100000.0</td>\n",
       "      <td>C2</td>\n",
       "      <td>Salaried_MNC</td>\n",
       "      <td>23-Nov-04</td>\n",
       "      <td>PETRO</td>\n",
       "      <td>384078.73</td>\n",
       "    </tr>\n",
       "    <tr>\n",
       "      <th>22</th>\n",
       "      <td>A2</td>\n",
       "      <td>71.0</td>\n",
       "      <td>CALCUTTA</td>\n",
       "      <td>Silver</td>\n",
       "      <td>100000.0</td>\n",
       "      <td>C2</td>\n",
       "      <td>Salaried_MNC</td>\n",
       "      <td>3-Sep-05</td>\n",
       "      <td>JEWELLERY</td>\n",
       "      <td>117089.16</td>\n",
       "    </tr>\n",
       "    <tr>\n",
       "      <th>...</th>\n",
       "      <td>...</td>\n",
       "      <td>...</td>\n",
       "      <td>...</td>\n",
       "      <td>...</td>\n",
       "      <td>...</td>\n",
       "      <td>...</td>\n",
       "      <td>...</td>\n",
       "      <td>...</td>\n",
       "      <td>...</td>\n",
       "      <td>...</td>\n",
       "    </tr>\n",
       "    <tr>\n",
       "      <th>1486</th>\n",
       "      <td>A87</td>\n",
       "      <td>27.0</td>\n",
       "      <td>CALCUTTA</td>\n",
       "      <td>Silver</td>\n",
       "      <td>100003.0</td>\n",
       "      <td>C10</td>\n",
       "      <td>Govt</td>\n",
       "      <td>30-Mar-06</td>\n",
       "      <td>RENTAL</td>\n",
       "      <td>483886.62</td>\n",
       "    </tr>\n",
       "    <tr>\n",
       "      <th>1496</th>\n",
       "      <td>A97</td>\n",
       "      <td>58.0</td>\n",
       "      <td>TRIVANDRUM</td>\n",
       "      <td>Platimum</td>\n",
       "      <td>10000.0</td>\n",
       "      <td>C20</td>\n",
       "      <td>Govt</td>\n",
       "      <td>12-Jan-04</td>\n",
       "      <td>AUTO</td>\n",
       "      <td>139018.26</td>\n",
       "    </tr>\n",
       "    <tr>\n",
       "      <th>1497</th>\n",
       "      <td>A98</td>\n",
       "      <td>51.0</td>\n",
       "      <td>CALCUTTA</td>\n",
       "      <td>Platimum</td>\n",
       "      <td>10001.0</td>\n",
       "      <td>C21</td>\n",
       "      <td>Normal Salary</td>\n",
       "      <td>3-Jan-04</td>\n",
       "      <td>SHOPPING</td>\n",
       "      <td>284521.06</td>\n",
       "    </tr>\n",
       "    <tr>\n",
       "      <th>1498</th>\n",
       "      <td>A99</td>\n",
       "      <td>35.0</td>\n",
       "      <td>CALCUTTA</td>\n",
       "      <td>Platimum</td>\n",
       "      <td>10002.0</td>\n",
       "      <td>C22</td>\n",
       "      <td>Self Employed</td>\n",
       "      <td>15-Jan-04</td>\n",
       "      <td>AIR TICKET</td>\n",
       "      <td>90184.22</td>\n",
       "    </tr>\n",
       "    <tr>\n",
       "      <th>1499</th>\n",
       "      <td>A100</td>\n",
       "      <td>36.0</td>\n",
       "      <td>COCHIN</td>\n",
       "      <td>Silver</td>\n",
       "      <td>100000.0</td>\n",
       "      <td>C5</td>\n",
       "      <td>Salaried_MNC</td>\n",
       "      <td>25-Jan-04</td>\n",
       "      <td>BUS TICKET</td>\n",
       "      <td>224786.88</td>\n",
       "    </tr>\n",
       "  </tbody>\n",
       "</table>\n",
       "<p>607 rows × 10 columns</p>\n",
       "</div>"
      ],
      "text/plain": [
       "     Customer   Age        City   Product     Limit Company        Segment  \\\n",
       "18         A2  71.0    CALCUTTA    Silver  100000.0      C2   Salaried_MNC   \n",
       "19         A2  71.0    CALCUTTA    Silver  100000.0      C2   Salaried_MNC   \n",
       "20         A2  71.0    CALCUTTA    Silver  100000.0      C2   Salaried_MNC   \n",
       "21         A2  71.0    CALCUTTA    Silver  100000.0      C2   Salaried_MNC   \n",
       "22         A2  71.0    CALCUTTA    Silver  100000.0      C2   Salaried_MNC   \n",
       "...       ...   ...         ...       ...       ...     ...            ...   \n",
       "1486      A87  27.0    CALCUTTA    Silver  100003.0     C10           Govt   \n",
       "1496      A97  58.0  TRIVANDRUM  Platimum   10000.0     C20           Govt   \n",
       "1497      A98  51.0    CALCUTTA  Platimum   10001.0     C21  Normal Salary   \n",
       "1498      A99  35.0    CALCUTTA  Platimum   10002.0     C22  Self Employed   \n",
       "1499     A100  36.0      COCHIN    Silver  100000.0      C5   Salaried_MNC   \n",
       "\n",
       "          Month          Type     Amount  \n",
       "18     3-Jan-04        RENTAL  199554.72  \n",
       "19    28-Feb-05  TRAIN TICKET  376887.49  \n",
       "20     6-Apr-04    BUS TICKET  439648.53  \n",
       "21    23-Nov-04         PETRO  384078.73  \n",
       "22     3-Sep-05     JEWELLERY  117089.16  \n",
       "...         ...           ...        ...  \n",
       "1486  30-Mar-06        RENTAL  483886.62  \n",
       "1496  12-Jan-04          AUTO  139018.26  \n",
       "1497   3-Jan-04      SHOPPING  284521.06  \n",
       "1498  15-Jan-04    AIR TICKET   90184.22  \n",
       "1499  25-Jan-04    BUS TICKET  224786.88  \n",
       "\n",
       "[607 rows x 10 columns]"
      ]
     },
     "execution_count": 40,
     "metadata": {},
     "output_type": "execute_result"
    }
   ],
   "source": [
    "# All the customers whose spend amount is more than the limit,replacing with 50% of that customer’s limit\n",
    "\n",
    "customer_spend[customer_spend[\"Amount\"] > customer_spend['Limit']]"
   ]
  },
  {
   "cell_type": "markdown",
   "id": "84629a36",
   "metadata": {},
   "source": [
    "It is very important factor is to identify , the Customer who has spended more than that of Limit.\n",
    "\n",
    "It is very important that , each customer has to spend within his given limit , if he is spending more than a limit in our dataset that means it contain some wrong information , and we need to correct it."
   ]
  },
  {
   "cell_type": "markdown",
   "id": "16b07340",
   "metadata": {},
   "source": [
    "**(B)  In case spend amount is more than the limit, replace it with 50% of that customer’s limit. (customer’s limit provided in acquisition table is the per transaction limit on his card)**"
   ]
  },
  {
   "cell_type": "code",
   "execution_count": 42,
   "id": "48900045",
   "metadata": {},
   "outputs": [],
   "source": [
    "# If customer's spend amount is more than the limit,replacing with 50% of that customer’s limit\n",
    "\n",
    "customer_spend.loc[customer_spend[\"Amount\"] > customer_spend[\"Limit\"],\"Amount\"] = (50 * customer_spend[\"Limit\"]).div(100)"
   ]
  },
  {
   "cell_type": "code",
   "execution_count": 43,
   "id": "9c65245a",
   "metadata": {},
   "outputs": [
    {
     "data": {
      "text/html": [
       "<div>\n",
       "<style scoped>\n",
       "    .dataframe tbody tr th:only-of-type {\n",
       "        vertical-align: middle;\n",
       "    }\n",
       "\n",
       "    .dataframe tbody tr th {\n",
       "        vertical-align: top;\n",
       "    }\n",
       "\n",
       "    .dataframe thead th {\n",
       "        text-align: right;\n",
       "    }\n",
       "</style>\n",
       "<table border=\"1\" class=\"dataframe\">\n",
       "  <thead>\n",
       "    <tr style=\"text-align: right;\">\n",
       "      <th></th>\n",
       "      <th>Customer</th>\n",
       "      <th>Age</th>\n",
       "      <th>City</th>\n",
       "      <th>Product</th>\n",
       "      <th>Limit</th>\n",
       "      <th>Company</th>\n",
       "      <th>Segment</th>\n",
       "      <th>Month</th>\n",
       "      <th>Type</th>\n",
       "      <th>Amount</th>\n",
       "    </tr>\n",
       "  </thead>\n",
       "  <tbody>\n",
       "  </tbody>\n",
       "</table>\n",
       "</div>"
      ],
      "text/plain": [
       "Empty DataFrame\n",
       "Columns: [Customer, Age, City, Product, Limit, Company, Segment, Month, Type, Amount]\n",
       "Index: []"
      ]
     },
     "execution_count": 43,
     "metadata": {},
     "output_type": "execute_result"
    }
   ],
   "source": [
    "#there are no customers left whose spend amount is more than the limit\n",
    "\n",
    "customer_spend[customer_spend[\"Amount\"] > customer_spend['Limit']]"
   ]
  },
  {
   "cell_type": "markdown",
   "id": "560d7cba",
   "metadata": {},
   "source": [
    "###############################################################################################################################"
   ]
  },
  {
   "cell_type": "markdown",
   "id": "40d50bdf",
   "metadata": {},
   "source": [
    "**(C) Incase the repayment amount is more than the limit, replace the repayment with the limit.**"
   ]
  },
  {
   "cell_type": "code",
   "execution_count": 44,
   "id": "f242f80b",
   "metadata": {},
   "outputs": [],
   "source": [
    "# Merging customer and spend table on the basis of \"Customer\" column\n",
    "\n",
    "customer_repay = pd.merge(left=repay,right=customer,on=\"Customer\",how=\"inner\")"
   ]
  },
  {
   "cell_type": "code",
   "execution_count": 45,
   "id": "43330a63",
   "metadata": {},
   "outputs": [
    {
     "data": {
      "text/html": [
       "<div>\n",
       "<style scoped>\n",
       "    .dataframe tbody tr th:only-of-type {\n",
       "        vertical-align: middle;\n",
       "    }\n",
       "\n",
       "    .dataframe tbody tr th {\n",
       "        vertical-align: top;\n",
       "    }\n",
       "\n",
       "    .dataframe thead th {\n",
       "        text-align: right;\n",
       "    }\n",
       "</style>\n",
       "<table border=\"1\" class=\"dataframe\">\n",
       "  <thead>\n",
       "    <tr style=\"text-align: right;\">\n",
       "      <th></th>\n",
       "      <th>Customer</th>\n",
       "      <th>Month</th>\n",
       "      <th>Amount</th>\n",
       "      <th>Age</th>\n",
       "      <th>City</th>\n",
       "      <th>Product</th>\n",
       "      <th>Limit</th>\n",
       "      <th>Company</th>\n",
       "      <th>Segment</th>\n",
       "    </tr>\n",
       "  </thead>\n",
       "  <tbody>\n",
       "    <tr>\n",
       "      <th>0</th>\n",
       "      <td>A1</td>\n",
       "      <td>12-Jan-04</td>\n",
       "      <td>495414.75</td>\n",
       "      <td>76.0</td>\n",
       "      <td>BANGALORE</td>\n",
       "      <td>Gold</td>\n",
       "      <td>500000.0</td>\n",
       "      <td>C1</td>\n",
       "      <td>Self Employed</td>\n",
       "    </tr>\n",
       "    <tr>\n",
       "      <th>1</th>\n",
       "      <td>A1</td>\n",
       "      <td>3-Jan-04</td>\n",
       "      <td>245899.02</td>\n",
       "      <td>76.0</td>\n",
       "      <td>BANGALORE</td>\n",
       "      <td>Gold</td>\n",
       "      <td>500000.0</td>\n",
       "      <td>C1</td>\n",
       "      <td>Self Employed</td>\n",
       "    </tr>\n",
       "    <tr>\n",
       "      <th>2</th>\n",
       "      <td>A1</td>\n",
       "      <td>15-Jan-04</td>\n",
       "      <td>259490.06</td>\n",
       "      <td>76.0</td>\n",
       "      <td>BANGALORE</td>\n",
       "      <td>Gold</td>\n",
       "      <td>500000.0</td>\n",
       "      <td>C1</td>\n",
       "      <td>Self Employed</td>\n",
       "    </tr>\n",
       "    <tr>\n",
       "      <th>3</th>\n",
       "      <td>A1</td>\n",
       "      <td>25-Jan-04</td>\n",
       "      <td>437555.12</td>\n",
       "      <td>76.0</td>\n",
       "      <td>BANGALORE</td>\n",
       "      <td>Gold</td>\n",
       "      <td>500000.0</td>\n",
       "      <td>C1</td>\n",
       "      <td>Self Employed</td>\n",
       "    </tr>\n",
       "    <tr>\n",
       "      <th>4</th>\n",
       "      <td>A1</td>\n",
       "      <td>17-Jan-05</td>\n",
       "      <td>165972.88</td>\n",
       "      <td>76.0</td>\n",
       "      <td>BANGALORE</td>\n",
       "      <td>Gold</td>\n",
       "      <td>500000.0</td>\n",
       "      <td>C1</td>\n",
       "      <td>Self Employed</td>\n",
       "    </tr>\n",
       "  </tbody>\n",
       "</table>\n",
       "</div>"
      ],
      "text/plain": [
       "  Customer      Month     Amount   Age       City Product     Limit Company  \\\n",
       "0       A1  12-Jan-04  495414.75  76.0  BANGALORE    Gold  500000.0      C1   \n",
       "1       A1   3-Jan-04  245899.02  76.0  BANGALORE    Gold  500000.0      C1   \n",
       "2       A1  15-Jan-04  259490.06  76.0  BANGALORE    Gold  500000.0      C1   \n",
       "3       A1  25-Jan-04  437555.12  76.0  BANGALORE    Gold  500000.0      C1   \n",
       "4       A1  17-Jan-05  165972.88  76.0  BANGALORE    Gold  500000.0      C1   \n",
       "\n",
       "         Segment  \n",
       "0  Self Employed  \n",
       "1  Self Employed  \n",
       "2  Self Employed  \n",
       "3  Self Employed  \n",
       "4  Self Employed  "
      ]
     },
     "execution_count": 45,
     "metadata": {},
     "output_type": "execute_result"
    }
   ],
   "source": [
    "customer_repay.head()"
   ]
  },
  {
   "cell_type": "code",
   "execution_count": 46,
   "id": "39bb5616",
   "metadata": {},
   "outputs": [
    {
     "data": {
      "text/plain": [
       "(1500, 9)"
      ]
     },
     "execution_count": 46,
     "metadata": {},
     "output_type": "execute_result"
    }
   ],
   "source": [
    "customer_repay.shape"
   ]
  },
  {
   "cell_type": "code",
   "execution_count": 47,
   "id": "07e60eb7",
   "metadata": {},
   "outputs": [
    {
     "data": {
      "text/html": [
       "<div>\n",
       "<style scoped>\n",
       "    .dataframe tbody tr th:only-of-type {\n",
       "        vertical-align: middle;\n",
       "    }\n",
       "\n",
       "    .dataframe tbody tr th {\n",
       "        vertical-align: top;\n",
       "    }\n",
       "\n",
       "    .dataframe thead th {\n",
       "        text-align: right;\n",
       "    }\n",
       "</style>\n",
       "<table border=\"1\" class=\"dataframe\">\n",
       "  <thead>\n",
       "    <tr style=\"text-align: right;\">\n",
       "      <th></th>\n",
       "      <th>Customer</th>\n",
       "      <th>Month</th>\n",
       "      <th>Amount</th>\n",
       "      <th>Age</th>\n",
       "      <th>City</th>\n",
       "      <th>Product</th>\n",
       "      <th>Limit</th>\n",
       "      <th>Company</th>\n",
       "      <th>Segment</th>\n",
       "    </tr>\n",
       "  </thead>\n",
       "  <tbody>\n",
       "    <tr>\n",
       "      <th>18</th>\n",
       "      <td>A8</td>\n",
       "      <td>5-Feb-04</td>\n",
       "      <td>156913.59</td>\n",
       "      <td>67.0</td>\n",
       "      <td>PATNA</td>\n",
       "      <td>Silver</td>\n",
       "      <td>100002.0</td>\n",
       "      <td>C8</td>\n",
       "      <td>Salaried_Pvt</td>\n",
       "    </tr>\n",
       "    <tr>\n",
       "      <th>19</th>\n",
       "      <td>A8</td>\n",
       "      <td>12-Jan-04</td>\n",
       "      <td>350999.98</td>\n",
       "      <td>67.0</td>\n",
       "      <td>PATNA</td>\n",
       "      <td>Silver</td>\n",
       "      <td>100002.0</td>\n",
       "      <td>C8</td>\n",
       "      <td>Salaried_Pvt</td>\n",
       "    </tr>\n",
       "    <tr>\n",
       "      <th>20</th>\n",
       "      <td>A8</td>\n",
       "      <td>31-Mar-06</td>\n",
       "      <td>155642.95</td>\n",
       "      <td>67.0</td>\n",
       "      <td>PATNA</td>\n",
       "      <td>Silver</td>\n",
       "      <td>100002.0</td>\n",
       "      <td>C8</td>\n",
       "      <td>Salaried_Pvt</td>\n",
       "    </tr>\n",
       "    <tr>\n",
       "      <th>21</th>\n",
       "      <td>A8</td>\n",
       "      <td>9-May-05</td>\n",
       "      <td>145457.38</td>\n",
       "      <td>67.0</td>\n",
       "      <td>PATNA</td>\n",
       "      <td>Silver</td>\n",
       "      <td>100002.0</td>\n",
       "      <td>C8</td>\n",
       "      <td>Salaried_Pvt</td>\n",
       "    </tr>\n",
       "    <tr>\n",
       "      <th>22</th>\n",
       "      <td>A8</td>\n",
       "      <td>8-May-06</td>\n",
       "      <td>361184.89</td>\n",
       "      <td>67.0</td>\n",
       "      <td>PATNA</td>\n",
       "      <td>Silver</td>\n",
       "      <td>100002.0</td>\n",
       "      <td>C8</td>\n",
       "      <td>Salaried_Pvt</td>\n",
       "    </tr>\n",
       "    <tr>\n",
       "      <th>...</th>\n",
       "      <td>...</td>\n",
       "      <td>...</td>\n",
       "      <td>...</td>\n",
       "      <td>...</td>\n",
       "      <td>...</td>\n",
       "      <td>...</td>\n",
       "      <td>...</td>\n",
       "      <td>...</td>\n",
       "      <td>...</td>\n",
       "    </tr>\n",
       "    <tr>\n",
       "      <th>1494</th>\n",
       "      <td>A7</td>\n",
       "      <td>6-May-06</td>\n",
       "      <td>400375.97</td>\n",
       "      <td>26.0</td>\n",
       "      <td>COCHIN</td>\n",
       "      <td>Silver</td>\n",
       "      <td>100001.0</td>\n",
       "      <td>C7</td>\n",
       "      <td>Salaried_MNC</td>\n",
       "    </tr>\n",
       "    <tr>\n",
       "      <th>1496</th>\n",
       "      <td>A7</td>\n",
       "      <td>3-Dec-05</td>\n",
       "      <td>429700.12</td>\n",
       "      <td>26.0</td>\n",
       "      <td>COCHIN</td>\n",
       "      <td>Silver</td>\n",
       "      <td>100001.0</td>\n",
       "      <td>C7</td>\n",
       "      <td>Salaried_MNC</td>\n",
       "    </tr>\n",
       "    <tr>\n",
       "      <th>1497</th>\n",
       "      <td>A7</td>\n",
       "      <td>23-Feb-05</td>\n",
       "      <td>344628.72</td>\n",
       "      <td>26.0</td>\n",
       "      <td>COCHIN</td>\n",
       "      <td>Silver</td>\n",
       "      <td>100001.0</td>\n",
       "      <td>C7</td>\n",
       "      <td>Salaried_MNC</td>\n",
       "    </tr>\n",
       "    <tr>\n",
       "      <th>1498</th>\n",
       "      <td>A7</td>\n",
       "      <td>31-Mar-06</td>\n",
       "      <td>336264.37</td>\n",
       "      <td>26.0</td>\n",
       "      <td>COCHIN</td>\n",
       "      <td>Silver</td>\n",
       "      <td>100001.0</td>\n",
       "      <td>C7</td>\n",
       "      <td>Salaried_MNC</td>\n",
       "    </tr>\n",
       "    <tr>\n",
       "      <th>1499</th>\n",
       "      <td>A7</td>\n",
       "      <td>3-Jan-04</td>\n",
       "      <td>473662.61</td>\n",
       "      <td>26.0</td>\n",
       "      <td>COCHIN</td>\n",
       "      <td>Silver</td>\n",
       "      <td>100001.0</td>\n",
       "      <td>C7</td>\n",
       "      <td>Salaried_MNC</td>\n",
       "    </tr>\n",
       "  </tbody>\n",
       "</table>\n",
       "<p>600 rows × 9 columns</p>\n",
       "</div>"
      ],
      "text/plain": [
       "     Customer      Month     Amount   Age    City Product     Limit Company  \\\n",
       "18         A8   5-Feb-04  156913.59  67.0   PATNA  Silver  100002.0      C8   \n",
       "19         A8  12-Jan-04  350999.98  67.0   PATNA  Silver  100002.0      C8   \n",
       "20         A8  31-Mar-06  155642.95  67.0   PATNA  Silver  100002.0      C8   \n",
       "21         A8   9-May-05  145457.38  67.0   PATNA  Silver  100002.0      C8   \n",
       "22         A8   8-May-06  361184.89  67.0   PATNA  Silver  100002.0      C8   \n",
       "...       ...        ...        ...   ...     ...     ...       ...     ...   \n",
       "1494       A7   6-May-06  400375.97  26.0  COCHIN  Silver  100001.0      C7   \n",
       "1496       A7   3-Dec-05  429700.12  26.0  COCHIN  Silver  100001.0      C7   \n",
       "1497       A7  23-Feb-05  344628.72  26.0  COCHIN  Silver  100001.0      C7   \n",
       "1498       A7  31-Mar-06  336264.37  26.0  COCHIN  Silver  100001.0      C7   \n",
       "1499       A7   3-Jan-04  473662.61  26.0  COCHIN  Silver  100001.0      C7   \n",
       "\n",
       "           Segment  \n",
       "18    Salaried_Pvt  \n",
       "19    Salaried_Pvt  \n",
       "20    Salaried_Pvt  \n",
       "21    Salaried_Pvt  \n",
       "22    Salaried_Pvt  \n",
       "...            ...  \n",
       "1494  Salaried_MNC  \n",
       "1496  Salaried_MNC  \n",
       "1497  Salaried_MNC  \n",
       "1498  Salaried_MNC  \n",
       "1499  Salaried_MNC  \n",
       "\n",
       "[600 rows x 9 columns]"
      ]
     },
     "execution_count": 47,
     "metadata": {},
     "output_type": "execute_result"
    }
   ],
   "source": [
    "# All the customers where repayment amount is more than the limit.\n",
    "\n",
    "customer_repay[customer_repay[\"Amount\"] > customer_repay[\"Limit\"]]"
   ]
  },
  {
   "cell_type": "code",
   "execution_count": 48,
   "id": "9c6bd663",
   "metadata": {},
   "outputs": [],
   "source": [
    "# Customers where repayment amount is more than the limit, replacing the repayment with the limit.\n",
    "\n",
    "customer_repay.loc[customer_repay[\"Amount\"] > customer_repay[\"Limit\"],\"Amount\"] = customer_repay[\"Limit\"]"
   ]
  },
  {
   "cell_type": "code",
   "execution_count": 49,
   "id": "a2bc9962",
   "metadata": {},
   "outputs": [
    {
     "data": {
      "text/html": [
       "<div>\n",
       "<style scoped>\n",
       "    .dataframe tbody tr th:only-of-type {\n",
       "        vertical-align: middle;\n",
       "    }\n",
       "\n",
       "    .dataframe tbody tr th {\n",
       "        vertical-align: top;\n",
       "    }\n",
       "\n",
       "    .dataframe thead th {\n",
       "        text-align: right;\n",
       "    }\n",
       "</style>\n",
       "<table border=\"1\" class=\"dataframe\">\n",
       "  <thead>\n",
       "    <tr style=\"text-align: right;\">\n",
       "      <th></th>\n",
       "      <th>Customer</th>\n",
       "      <th>Month</th>\n",
       "      <th>Amount</th>\n",
       "      <th>Age</th>\n",
       "      <th>City</th>\n",
       "      <th>Product</th>\n",
       "      <th>Limit</th>\n",
       "      <th>Company</th>\n",
       "      <th>Segment</th>\n",
       "    </tr>\n",
       "  </thead>\n",
       "  <tbody>\n",
       "  </tbody>\n",
       "</table>\n",
       "</div>"
      ],
      "text/plain": [
       "Empty DataFrame\n",
       "Columns: [Customer, Month, Amount, Age, City, Product, Limit, Company, Segment]\n",
       "Index: []"
      ]
     },
     "execution_count": 49,
     "metadata": {},
     "output_type": "execute_result"
    }
   ],
   "source": [
    "# There are no customers left where repayment amount is more than the limit.\n",
    "\n",
    "customer_repay[customer_repay[\"Amount\"] > customer_repay[\"Limit\"]]"
   ]
  },
  {
   "cell_type": "markdown",
   "id": "99fe23ac",
   "metadata": {},
   "source": [
    "# From the above dataset create the following summaries:"
   ]
  },
  {
   "cell_type": "markdown",
   "id": "c4fdaa01",
   "metadata": {},
   "source": [
    "How many distinct customers exist?"
   ]
  },
  {
   "cell_type": "code",
   "execution_count": 50,
   "id": "a1674a0d",
   "metadata": {},
   "outputs": [],
   "source": [
    "distinct_customers = customer[\"Customer\"].nunique()"
   ]
  },
  {
   "cell_type": "code",
   "execution_count": 51,
   "id": "05c1652a",
   "metadata": {},
   "outputs": [
    {
     "name": "stdout",
     "output_type": "stream",
     "text": [
      "Number of distinct customers are 100\n"
     ]
    }
   ],
   "source": [
    "print(\"Number of distinct customers are\",distinct_customers)"
   ]
  },
  {
   "cell_type": "markdown",
   "id": "45ca2c81",
   "metadata": {},
   "source": [
    "How many distinct categories exist ?"
   ]
  },
  {
   "cell_type": "code",
   "execution_count": 52,
   "id": "8ea610cf",
   "metadata": {},
   "outputs": [
    {
     "data": {
      "text/plain": [
       "Govt             29\n",
       "Self Employed    23\n",
       "Normal Salary    22\n",
       "Salaried_MNC     13\n",
       "Salaried_Pvt     13\n",
       "Name: Segment, dtype: int64"
      ]
     },
     "execution_count": 52,
     "metadata": {},
     "output_type": "execute_result"
    }
   ],
   "source": [
    "# Customers from different segments\n",
    "\n",
    "customer[\"Segment\"].value_counts()"
   ]
  },
  {
   "cell_type": "code",
   "execution_count": 53,
   "id": "a5d69cde",
   "metadata": {},
   "outputs": [],
   "source": [
    "sns.set(style=\"whitegrid\") # Lets set background of charts as white "
   ]
  },
  {
   "cell_type": "code",
   "execution_count": 54,
   "id": "9d6b292e",
   "metadata": {},
   "outputs": [
    {
     "name": "stderr",
     "output_type": "stream",
     "text": [
      "C:\\Users\\meabh\\anaconda3\\envs\\py38\\lib\\site-packages\\seaborn\\_decorators.py:36: FutureWarning: Pass the following variable as a keyword arg: x. From version 0.12, the only valid positional argument will be `data`, and passing other arguments without an explicit keyword will result in an error or misinterpretation.\n",
      "  warnings.warn(\n"
     ]
    },
    {
     "data": {
      "image/png": "[encoded data removed]",
      "text/plain": [
       "<Figure size 576x432 with 1 Axes>"
      ]
     },
     "metadata": {},
     "output_type": "display_data"
    }
   ],
   "source": [
    "plt.figure(figsize=(8,6))\n",
    "sns.countplot('Segment',data=customer)\n",
    "plt.show()"
   ]
  },
  {
   "cell_type": "markdown",
   "id": "362b4848",
   "metadata": {},
   "source": [
    "From this graph , it is observed that the max. number of credit card issued for the Govt Employed & second for the Self Employed."
   ]
  },
  {
   "cell_type": "code",
   "execution_count": 55,
   "id": "1f331615",
   "metadata": {},
   "outputs": [
    {
     "name": "stdout",
     "output_type": "stream",
     "text": [
      "We can see from the countplot that number of distinct categories are 5\n"
     ]
    }
   ],
   "source": [
    "print(\"We can see from the countplot that number of distinct categories are\", len(customer[\"Segment\"].value_counts()))"
   ]
  },
  {
   "cell_type": "markdown",
   "id": "7e5f9348",
   "metadata": {},
   "source": [
    "What is the average monthly spend by customers ?"
   ]
  },
  {
   "cell_type": "code",
   "execution_count": 56,
   "id": "e5ea6cf7",
   "metadata": {},
   "outputs": [
    {
     "data": {
      "text/html": [
       "<div>\n",
       "<style scoped>\n",
       "    .dataframe tbody tr th:only-of-type {\n",
       "        vertical-align: middle;\n",
       "    }\n",
       "\n",
       "    .dataframe tbody tr th {\n",
       "        vertical-align: top;\n",
       "    }\n",
       "\n",
       "    .dataframe thead th {\n",
       "        text-align: right;\n",
       "    }\n",
       "</style>\n",
       "<table border=\"1\" class=\"dataframe\">\n",
       "  <thead>\n",
       "    <tr style=\"text-align: right;\">\n",
       "      <th></th>\n",
       "      <th>Customer</th>\n",
       "      <th>Month</th>\n",
       "      <th>Type</th>\n",
       "      <th>Amount</th>\n",
       "    </tr>\n",
       "  </thead>\n",
       "  <tbody>\n",
       "    <tr>\n",
       "      <th>0</th>\n",
       "      <td>A1</td>\n",
       "      <td>12-Jan-04</td>\n",
       "      <td>JEWELLERY</td>\n",
       "      <td>485470.80</td>\n",
       "    </tr>\n",
       "    <tr>\n",
       "      <th>1</th>\n",
       "      <td>A1</td>\n",
       "      <td>3-Jan-04</td>\n",
       "      <td>PETRO</td>\n",
       "      <td>410556.13</td>\n",
       "    </tr>\n",
       "  </tbody>\n",
       "</table>\n",
       "</div>"
      ],
      "text/plain": [
       "  Customer      Month       Type     Amount\n",
       "0       A1  12-Jan-04  JEWELLERY  485470.80\n",
       "1       A1   3-Jan-04      PETRO  410556.13"
      ]
     },
     "execution_count": 56,
     "metadata": {},
     "output_type": "execute_result"
    }
   ],
   "source": [
    "spend.head(2)"
   ]
  },
  {
   "cell_type": "code",
   "execution_count": 57,
   "id": "155a99bc",
   "metadata": {},
   "outputs": [],
   "source": [
    "# Converting Month column of \"spend\" table to date time format\n",
    "\n",
    "spend['Month'] = pd.to_datetime(spend['Month'])"
   ]
  },
  {
   "cell_type": "code",
   "execution_count": 58,
   "id": "185ac476",
   "metadata": {},
   "outputs": [
    {
     "data": {
      "text/html": [
       "<div>\n",
       "<style scoped>\n",
       "    .dataframe tbody tr th:only-of-type {\n",
       "        vertical-align: middle;\n",
       "    }\n",
       "\n",
       "    .dataframe tbody tr th {\n",
       "        vertical-align: top;\n",
       "    }\n",
       "\n",
       "    .dataframe thead th {\n",
       "        text-align: right;\n",
       "    }\n",
       "</style>\n",
       "<table border=\"1\" class=\"dataframe\">\n",
       "  <thead>\n",
       "    <tr style=\"text-align: right;\">\n",
       "      <th></th>\n",
       "      <th>Customer</th>\n",
       "      <th>Month</th>\n",
       "      <th>Type</th>\n",
       "      <th>Amount</th>\n",
       "    </tr>\n",
       "  </thead>\n",
       "  <tbody>\n",
       "    <tr>\n",
       "      <th>0</th>\n",
       "      <td>A1</td>\n",
       "      <td>2004-01-12</td>\n",
       "      <td>JEWELLERY</td>\n",
       "      <td>485470.80</td>\n",
       "    </tr>\n",
       "    <tr>\n",
       "      <th>1</th>\n",
       "      <td>A1</td>\n",
       "      <td>2004-01-03</td>\n",
       "      <td>PETRO</td>\n",
       "      <td>410556.13</td>\n",
       "    </tr>\n",
       "  </tbody>\n",
       "</table>\n",
       "</div>"
      ],
      "text/plain": [
       "  Customer      Month       Type     Amount\n",
       "0       A1 2004-01-12  JEWELLERY  485470.80\n",
       "1       A1 2004-01-03      PETRO  410556.13"
      ]
     },
     "execution_count": 58,
     "metadata": {},
     "output_type": "execute_result"
    }
   ],
   "source": [
    "spend.head(2)"
   ]
  },
  {
   "cell_type": "markdown",
   "id": "e0f43863",
   "metadata": {},
   "source": [
    "Creating new columns which show \"Month\" and \"Year\""
   ]
  },
  {
   "cell_type": "code",
   "execution_count": 59,
   "id": "7faf0214",
   "metadata": {},
   "outputs": [],
   "source": [
    "spend['Monthly'] = spend['Month'].apply(lambda x:pd.Timestamp.strftime(x,format=\"%B\"))\n",
    "spend['Yearly'] = spend['Month'].apply(lambda x:pd.Timestamp.strftime(x,format=\"%Y\"))"
   ]
  },
  {
   "cell_type": "code",
   "execution_count": 60,
   "id": "f1ee3936",
   "metadata": {},
   "outputs": [
    {
     "data": {
      "text/html": [
       "<div>\n",
       "<style scoped>\n",
       "    .dataframe tbody tr th:only-of-type {\n",
       "        vertical-align: middle;\n",
       "    }\n",
       "\n",
       "    .dataframe tbody tr th {\n",
       "        vertical-align: top;\n",
       "    }\n",
       "\n",
       "    .dataframe thead th {\n",
       "        text-align: right;\n",
       "    }\n",
       "</style>\n",
       "<table border=\"1\" class=\"dataframe\">\n",
       "  <thead>\n",
       "    <tr style=\"text-align: right;\">\n",
       "      <th></th>\n",
       "      <th>Customer</th>\n",
       "      <th>Month</th>\n",
       "      <th>Type</th>\n",
       "      <th>Amount</th>\n",
       "      <th>Monthly</th>\n",
       "      <th>Yearly</th>\n",
       "    </tr>\n",
       "  </thead>\n",
       "  <tbody>\n",
       "    <tr>\n",
       "      <th>0</th>\n",
       "      <td>A1</td>\n",
       "      <td>2004-01-12</td>\n",
       "      <td>JEWELLERY</td>\n",
       "      <td>485470.80</td>\n",
       "      <td>January</td>\n",
       "      <td>2004</td>\n",
       "    </tr>\n",
       "    <tr>\n",
       "      <th>1</th>\n",
       "      <td>A1</td>\n",
       "      <td>2004-01-03</td>\n",
       "      <td>PETRO</td>\n",
       "      <td>410556.13</td>\n",
       "      <td>January</td>\n",
       "      <td>2004</td>\n",
       "    </tr>\n",
       "    <tr>\n",
       "      <th>2</th>\n",
       "      <td>A1</td>\n",
       "      <td>2004-01-15</td>\n",
       "      <td>CLOTHES</td>\n",
       "      <td>23740.46</td>\n",
       "      <td>January</td>\n",
       "      <td>2004</td>\n",
       "    </tr>\n",
       "    <tr>\n",
       "      <th>3</th>\n",
       "      <td>A1</td>\n",
       "      <td>2004-01-25</td>\n",
       "      <td>FOOD</td>\n",
       "      <td>484342.47</td>\n",
       "      <td>January</td>\n",
       "      <td>2004</td>\n",
       "    </tr>\n",
       "    <tr>\n",
       "      <th>4</th>\n",
       "      <td>A1</td>\n",
       "      <td>2005-01-17</td>\n",
       "      <td>CAMERA</td>\n",
       "      <td>369694.07</td>\n",
       "      <td>January</td>\n",
       "      <td>2005</td>\n",
       "    </tr>\n",
       "  </tbody>\n",
       "</table>\n",
       "</div>"
      ],
      "text/plain": [
       "  Customer      Month       Type     Amount  Monthly Yearly\n",
       "0       A1 2004-01-12  JEWELLERY  485470.80  January   2004\n",
       "1       A1 2004-01-03      PETRO  410556.13  January   2004\n",
       "2       A1 2004-01-15    CLOTHES   23740.46  January   2004\n",
       "3       A1 2004-01-25       FOOD  484342.47  January   2004\n",
       "4       A1 2005-01-17     CAMERA  369694.07  January   2005"
      ]
     },
     "execution_count": 60,
     "metadata": {},
     "output_type": "execute_result"
    }
   ],
   "source": [
    "spend.head()"
   ]
  },
  {
   "cell_type": "markdown",
   "id": "6619b63e",
   "metadata": {},
   "source": [
    "Grouping the dataset based on 'Yearly' and 'monthly'"
   ]
  },
  {
   "cell_type": "code",
   "execution_count": 61,
   "id": "e0ce83d7",
   "metadata": {},
   "outputs": [],
   "source": [
    "customer_spend_group= round(spend.groupby(['Yearly','Monthly']).mean(),2)"
   ]
  },
  {
   "cell_type": "code",
   "execution_count": 62,
   "id": "1d434a06",
   "metadata": {},
   "outputs": [
    {
     "data": {
      "text/html": [
       "<div>\n",
       "<style scoped>\n",
       "    .dataframe tbody tr th:only-of-type {\n",
       "        vertical-align: middle;\n",
       "    }\n",
       "\n",
       "    .dataframe tbody tr th {\n",
       "        vertical-align: top;\n",
       "    }\n",
       "\n",
       "    .dataframe thead th {\n",
       "        text-align: right;\n",
       "    }\n",
       "</style>\n",
       "<table border=\"1\" class=\"dataframe\">\n",
       "  <thead>\n",
       "    <tr style=\"text-align: right;\">\n",
       "      <th></th>\n",
       "      <th></th>\n",
       "      <th>Amount</th>\n",
       "    </tr>\n",
       "    <tr>\n",
       "      <th>Yearly</th>\n",
       "      <th>Monthly</th>\n",
       "      <th></th>\n",
       "    </tr>\n",
       "  </thead>\n",
       "  <tbody>\n",
       "    <tr>\n",
       "      <th rowspan=\"7\" valign=\"top\">2004</th>\n",
       "      <th>April</th>\n",
       "      <td>235272.04</td>\n",
       "    </tr>\n",
       "    <tr>\n",
       "      <th>February</th>\n",
       "      <td>221215.27</td>\n",
       "    </tr>\n",
       "    <tr>\n",
       "      <th>January</th>\n",
       "      <td>251712.07</td>\n",
       "    </tr>\n",
       "    <tr>\n",
       "      <th>March</th>\n",
       "      <td>232146.12</td>\n",
       "    </tr>\n",
       "    <tr>\n",
       "      <th>May</th>\n",
       "      <td>217539.24</td>\n",
       "    </tr>\n",
       "    <tr>\n",
       "      <th>November</th>\n",
       "      <td>270486.40</td>\n",
       "    </tr>\n",
       "    <tr>\n",
       "      <th>September</th>\n",
       "      <td>310923.38</td>\n",
       "    </tr>\n",
       "    <tr>\n",
       "      <th rowspan=\"11\" valign=\"top\">2005</th>\n",
       "      <th>April</th>\n",
       "      <td>252181.33</td>\n",
       "    </tr>\n",
       "    <tr>\n",
       "      <th>August</th>\n",
       "      <td>233734.63</td>\n",
       "    </tr>\n",
       "    <tr>\n",
       "      <th>December</th>\n",
       "      <td>147503.06</td>\n",
       "    </tr>\n",
       "    <tr>\n",
       "      <th>February</th>\n",
       "      <td>229802.28</td>\n",
       "    </tr>\n",
       "    <tr>\n",
       "      <th>January</th>\n",
       "      <td>292741.37</td>\n",
       "    </tr>\n",
       "    <tr>\n",
       "      <th>July</th>\n",
       "      <td>229116.66</td>\n",
       "    </tr>\n",
       "    <tr>\n",
       "      <th>June</th>\n",
       "      <td>262688.11</td>\n",
       "    </tr>\n",
       "    <tr>\n",
       "      <th>May</th>\n",
       "      <td>245696.52</td>\n",
       "    </tr>\n",
       "    <tr>\n",
       "      <th>November</th>\n",
       "      <td>286143.32</td>\n",
       "    </tr>\n",
       "    <tr>\n",
       "      <th>October</th>\n",
       "      <td>194568.64</td>\n",
       "    </tr>\n",
       "    <tr>\n",
       "      <th>September</th>\n",
       "      <td>188666.20</td>\n",
       "    </tr>\n",
       "    <tr>\n",
       "      <th rowspan=\"12\" valign=\"top\">2006</th>\n",
       "      <th>April</th>\n",
       "      <td>232468.97</td>\n",
       "    </tr>\n",
       "    <tr>\n",
       "      <th>August</th>\n",
       "      <td>240699.72</td>\n",
       "    </tr>\n",
       "    <tr>\n",
       "      <th>December</th>\n",
       "      <td>270470.98</td>\n",
       "    </tr>\n",
       "    <tr>\n",
       "      <th>February</th>\n",
       "      <td>253858.26</td>\n",
       "    </tr>\n",
       "    <tr>\n",
       "      <th>January</th>\n",
       "      <td>282058.01</td>\n",
       "    </tr>\n",
       "    <tr>\n",
       "      <th>July</th>\n",
       "      <td>287505.10</td>\n",
       "    </tr>\n",
       "    <tr>\n",
       "      <th>June</th>\n",
       "      <td>177252.39</td>\n",
       "    </tr>\n",
       "    <tr>\n",
       "      <th>March</th>\n",
       "      <td>247166.08</td>\n",
       "    </tr>\n",
       "    <tr>\n",
       "      <th>May</th>\n",
       "      <td>236162.74</td>\n",
       "    </tr>\n",
       "    <tr>\n",
       "      <th>November</th>\n",
       "      <td>182841.29</td>\n",
       "    </tr>\n",
       "    <tr>\n",
       "      <th>October</th>\n",
       "      <td>236136.34</td>\n",
       "    </tr>\n",
       "    <tr>\n",
       "      <th>September</th>\n",
       "      <td>158520.09</td>\n",
       "    </tr>\n",
       "  </tbody>\n",
       "</table>\n",
       "</div>"
      ],
      "text/plain": [
       "                     Amount\n",
       "Yearly Monthly             \n",
       "2004   April      235272.04\n",
       "       February   221215.27\n",
       "       January    251712.07\n",
       "       March      232146.12\n",
       "       May        217539.24\n",
       "       November   270486.40\n",
       "       September  310923.38\n",
       "2005   April      252181.33\n",
       "       August     233734.63\n",
       "       December   147503.06\n",
       "       February   229802.28\n",
       "       January    292741.37\n",
       "       July       229116.66\n",
       "       June       262688.11\n",
       "       May        245696.52\n",
       "       November   286143.32\n",
       "       October    194568.64\n",
       "       September  188666.20\n",
       "2006   April      232468.97\n",
       "       August     240699.72\n",
       "       December   270470.98\n",
       "       February   253858.26\n",
       "       January    282058.01\n",
       "       July       287505.10\n",
       "       June       177252.39\n",
       "       March      247166.08\n",
       "       May        236162.74\n",
       "       November   182841.29\n",
       "       October    236136.34\n",
       "       September  158520.09"
      ]
     },
     "execution_count": 62,
     "metadata": {},
     "output_type": "execute_result"
    }
   ],
   "source": [
    "customer_spend_group"
   ]
  },
  {
   "cell_type": "markdown",
   "id": "e0b4d4b9",
   "metadata": {},
   "source": [
    "What is the average monthly repayment by customers ?"
   ]
  },
  {
   "cell_type": "code",
   "execution_count": 63,
   "id": "1405af11",
   "metadata": {},
   "outputs": [
    {
     "data": {
      "text/html": [
       "<div>\n",
       "<style scoped>\n",
       "    .dataframe tbody tr th:only-of-type {\n",
       "        vertical-align: middle;\n",
       "    }\n",
       "\n",
       "    .dataframe tbody tr th {\n",
       "        vertical-align: top;\n",
       "    }\n",
       "\n",
       "    .dataframe thead th {\n",
       "        text-align: right;\n",
       "    }\n",
       "</style>\n",
       "<table border=\"1\" class=\"dataframe\">\n",
       "  <thead>\n",
       "    <tr style=\"text-align: right;\">\n",
       "      <th></th>\n",
       "      <th>Customer</th>\n",
       "      <th>Month</th>\n",
       "      <th>Amount</th>\n",
       "    </tr>\n",
       "  </thead>\n",
       "  <tbody>\n",
       "    <tr>\n",
       "      <th>0</th>\n",
       "      <td>A1</td>\n",
       "      <td>12-Jan-04</td>\n",
       "      <td>495414.75</td>\n",
       "    </tr>\n",
       "    <tr>\n",
       "      <th>1</th>\n",
       "      <td>A1</td>\n",
       "      <td>3-Jan-04</td>\n",
       "      <td>245899.02</td>\n",
       "    </tr>\n",
       "  </tbody>\n",
       "</table>\n",
       "</div>"
      ],
      "text/plain": [
       "  Customer      Month     Amount\n",
       "0       A1  12-Jan-04  495414.75\n",
       "1       A1   3-Jan-04  245899.02"
      ]
     },
     "execution_count": 63,
     "metadata": {},
     "output_type": "execute_result"
    }
   ],
   "source": [
    "repay.head(2)"
   ]
  },
  {
   "cell_type": "code",
   "execution_count": 64,
   "id": "d809a989",
   "metadata": {},
   "outputs": [],
   "source": [
    "# Coverting \"Month\" column to date time format\n",
    "\n",
    "repay[\"Month\"] = pd.to_datetime(repay[\"Month\"])"
   ]
  },
  {
   "cell_type": "code",
   "execution_count": 65,
   "id": "ead76c44",
   "metadata": {},
   "outputs": [
    {
     "data": {
      "text/html": [
       "<div>\n",
       "<style scoped>\n",
       "    .dataframe tbody tr th:only-of-type {\n",
       "        vertical-align: middle;\n",
       "    }\n",
       "\n",
       "    .dataframe tbody tr th {\n",
       "        vertical-align: top;\n",
       "    }\n",
       "\n",
       "    .dataframe thead th {\n",
       "        text-align: right;\n",
       "    }\n",
       "</style>\n",
       "<table border=\"1\" class=\"dataframe\">\n",
       "  <thead>\n",
       "    <tr style=\"text-align: right;\">\n",
       "      <th></th>\n",
       "      <th>Customer</th>\n",
       "      <th>Month</th>\n",
       "      <th>Amount</th>\n",
       "    </tr>\n",
       "  </thead>\n",
       "  <tbody>\n",
       "    <tr>\n",
       "      <th>0</th>\n",
       "      <td>A1</td>\n",
       "      <td>2004-01-12</td>\n",
       "      <td>495414.75</td>\n",
       "    </tr>\n",
       "    <tr>\n",
       "      <th>1</th>\n",
       "      <td>A1</td>\n",
       "      <td>2004-01-03</td>\n",
       "      <td>245899.02</td>\n",
       "    </tr>\n",
       "    <tr>\n",
       "      <th>2</th>\n",
       "      <td>A1</td>\n",
       "      <td>2004-01-15</td>\n",
       "      <td>259490.06</td>\n",
       "    </tr>\n",
       "    <tr>\n",
       "      <th>3</th>\n",
       "      <td>A1</td>\n",
       "      <td>2004-01-25</td>\n",
       "      <td>437555.12</td>\n",
       "    </tr>\n",
       "    <tr>\n",
       "      <th>4</th>\n",
       "      <td>A1</td>\n",
       "      <td>2005-01-17</td>\n",
       "      <td>165972.88</td>\n",
       "    </tr>\n",
       "  </tbody>\n",
       "</table>\n",
       "</div>"
      ],
      "text/plain": [
       "  Customer      Month     Amount\n",
       "0       A1 2004-01-12  495414.75\n",
       "1       A1 2004-01-03  245899.02\n",
       "2       A1 2004-01-15  259490.06\n",
       "3       A1 2004-01-25  437555.12\n",
       "4       A1 2005-01-17  165972.88"
      ]
     },
     "execution_count": 65,
     "metadata": {},
     "output_type": "execute_result"
    }
   ],
   "source": [
    "repay.head()"
   ]
  },
  {
   "cell_type": "markdown",
   "id": "d0b634dd",
   "metadata": {},
   "source": [
    "Creating new columns which show \"Month\" and \"Year\""
   ]
  },
  {
   "cell_type": "code",
   "execution_count": 66,
   "id": "ca3139c0",
   "metadata": {},
   "outputs": [],
   "source": [
    "repay['Monthly'] = repay['Month'].apply(lambda x:pd.Timestamp.strftime(x,format=\"%B\"))\n",
    "repay['Yearly'] = repay['Month'].apply(lambda x:pd.Timestamp.strftime(x,format=\"%Y\"))"
   ]
  },
  {
   "cell_type": "code",
   "execution_count": 67,
   "id": "8961e820",
   "metadata": {},
   "outputs": [],
   "source": [
    "# Grouping the dataset based on 'Yearly' and 'monthly'\n",
    "\n",
    "customer_repay_group= round(repay.groupby(['Yearly','Monthly']).mean(),2)"
   ]
  },
  {
   "cell_type": "code",
   "execution_count": 68,
   "id": "13529165",
   "metadata": {},
   "outputs": [
    {
     "data": {
      "text/html": [
       "<div>\n",
       "<style scoped>\n",
       "    .dataframe tbody tr th:only-of-type {\n",
       "        vertical-align: middle;\n",
       "    }\n",
       "\n",
       "    .dataframe tbody tr th {\n",
       "        vertical-align: top;\n",
       "    }\n",
       "\n",
       "    .dataframe thead th {\n",
       "        text-align: right;\n",
       "    }\n",
       "</style>\n",
       "<table border=\"1\" class=\"dataframe\">\n",
       "  <thead>\n",
       "    <tr style=\"text-align: right;\">\n",
       "      <th></th>\n",
       "      <th></th>\n",
       "      <th>Amount</th>\n",
       "    </tr>\n",
       "    <tr>\n",
       "      <th>Yearly</th>\n",
       "      <th>Monthly</th>\n",
       "      <th></th>\n",
       "    </tr>\n",
       "  </thead>\n",
       "  <tbody>\n",
       "    <tr>\n",
       "      <th rowspan=\"7\" valign=\"top\">2004</th>\n",
       "      <th>April</th>\n",
       "      <td>259141.68</td>\n",
       "    </tr>\n",
       "    <tr>\n",
       "      <th>February</th>\n",
       "      <td>256702.63</td>\n",
       "    </tr>\n",
       "    <tr>\n",
       "      <th>January</th>\n",
       "      <td>243489.65</td>\n",
       "    </tr>\n",
       "    <tr>\n",
       "      <th>March</th>\n",
       "      <td>252585.28</td>\n",
       "    </tr>\n",
       "    <tr>\n",
       "      <th>May</th>\n",
       "      <td>226162.72</td>\n",
       "    </tr>\n",
       "    <tr>\n",
       "      <th>November</th>\n",
       "      <td>209592.24</td>\n",
       "    </tr>\n",
       "    <tr>\n",
       "      <th>September</th>\n",
       "      <td>184487.85</td>\n",
       "    </tr>\n",
       "    <tr>\n",
       "      <th rowspan=\"11\" valign=\"top\">2005</th>\n",
       "      <th>April</th>\n",
       "      <td>212688.63</td>\n",
       "    </tr>\n",
       "    <tr>\n",
       "      <th>August</th>\n",
       "      <td>264430.92</td>\n",
       "    </tr>\n",
       "    <tr>\n",
       "      <th>December</th>\n",
       "      <td>320379.34</td>\n",
       "    </tr>\n",
       "    <tr>\n",
       "      <th>February</th>\n",
       "      <td>238829.27</td>\n",
       "    </tr>\n",
       "    <tr>\n",
       "      <th>January</th>\n",
       "      <td>240548.10</td>\n",
       "    </tr>\n",
       "    <tr>\n",
       "      <th>July</th>\n",
       "      <td>239871.48</td>\n",
       "    </tr>\n",
       "    <tr>\n",
       "      <th>June</th>\n",
       "      <td>210199.82</td>\n",
       "    </tr>\n",
       "    <tr>\n",
       "      <th>May</th>\n",
       "      <td>263207.37</td>\n",
       "    </tr>\n",
       "    <tr>\n",
       "      <th>November</th>\n",
       "      <td>256695.12</td>\n",
       "    </tr>\n",
       "    <tr>\n",
       "      <th>October</th>\n",
       "      <td>219849.96</td>\n",
       "    </tr>\n",
       "    <tr>\n",
       "      <th>September</th>\n",
       "      <td>247700.17</td>\n",
       "    </tr>\n",
       "    <tr>\n",
       "      <th rowspan=\"12\" valign=\"top\">2006</th>\n",
       "      <th>April</th>\n",
       "      <td>275472.25</td>\n",
       "    </tr>\n",
       "    <tr>\n",
       "      <th>August</th>\n",
       "      <td>224143.99</td>\n",
       "    </tr>\n",
       "    <tr>\n",
       "      <th>December</th>\n",
       "      <td>252736.57</td>\n",
       "    </tr>\n",
       "    <tr>\n",
       "      <th>February</th>\n",
       "      <td>284489.57</td>\n",
       "    </tr>\n",
       "    <tr>\n",
       "      <th>January</th>\n",
       "      <td>293475.39</td>\n",
       "    </tr>\n",
       "    <tr>\n",
       "      <th>July</th>\n",
       "      <td>257936.38</td>\n",
       "    </tr>\n",
       "    <tr>\n",
       "      <th>June</th>\n",
       "      <td>251990.45</td>\n",
       "    </tr>\n",
       "    <tr>\n",
       "      <th>March</th>\n",
       "      <td>240851.27</td>\n",
       "    </tr>\n",
       "    <tr>\n",
       "      <th>May</th>\n",
       "      <td>256920.88</td>\n",
       "    </tr>\n",
       "    <tr>\n",
       "      <th>November</th>\n",
       "      <td>199399.20</td>\n",
       "    </tr>\n",
       "    <tr>\n",
       "      <th>October</th>\n",
       "      <td>260765.48</td>\n",
       "    </tr>\n",
       "    <tr>\n",
       "      <th>September</th>\n",
       "      <td>262533.88</td>\n",
       "    </tr>\n",
       "  </tbody>\n",
       "</table>\n",
       "</div>"
      ],
      "text/plain": [
       "                     Amount\n",
       "Yearly Monthly             \n",
       "2004   April      259141.68\n",
       "       February   256702.63\n",
       "       January    243489.65\n",
       "       March      252585.28\n",
       "       May        226162.72\n",
       "       November   209592.24\n",
       "       September  184487.85\n",
       "2005   April      212688.63\n",
       "       August     264430.92\n",
       "       December   320379.34\n",
       "       February   238829.27\n",
       "       January    240548.10\n",
       "       July       239871.48\n",
       "       June       210199.82\n",
       "       May        263207.37\n",
       "       November   256695.12\n",
       "       October    219849.96\n",
       "       September  247700.17\n",
       "2006   April      275472.25\n",
       "       August     224143.99\n",
       "       December   252736.57\n",
       "       February   284489.57\n",
       "       January    293475.39\n",
       "       July       257936.38\n",
       "       June       251990.45\n",
       "       March      240851.27\n",
       "       May        256920.88\n",
       "       November   199399.20\n",
       "       October    260765.48\n",
       "       September  262533.88"
      ]
     },
     "execution_count": 68,
     "metadata": {},
     "output_type": "execute_result"
    }
   ],
   "source": [
    "customer_repay_group"
   ]
  },
  {
   "cell_type": "code",
   "execution_count": 69,
   "id": "55f04c76",
   "metadata": {},
   "outputs": [
    {
     "data": {
      "text/html": [
       "<div>\n",
       "<style scoped>\n",
       "    .dataframe tbody tr th:only-of-type {\n",
       "        vertical-align: middle;\n",
       "    }\n",
       "\n",
       "    .dataframe tbody tr th {\n",
       "        vertical-align: top;\n",
       "    }\n",
       "\n",
       "    .dataframe thead th {\n",
       "        text-align: right;\n",
       "    }\n",
       "</style>\n",
       "<table border=\"1\" class=\"dataframe\">\n",
       "  <thead>\n",
       "    <tr style=\"text-align: right;\">\n",
       "      <th></th>\n",
       "      <th>Customer</th>\n",
       "      <th>Month</th>\n",
       "      <th>Type</th>\n",
       "      <th>Amount</th>\n",
       "      <th>Monthly</th>\n",
       "      <th>Yearly</th>\n",
       "    </tr>\n",
       "  </thead>\n",
       "  <tbody>\n",
       "    <tr>\n",
       "      <th>0</th>\n",
       "      <td>A1</td>\n",
       "      <td>2004-01-12</td>\n",
       "      <td>JEWELLERY</td>\n",
       "      <td>485470.80</td>\n",
       "      <td>January</td>\n",
       "      <td>2004</td>\n",
       "    </tr>\n",
       "    <tr>\n",
       "      <th>1</th>\n",
       "      <td>A1</td>\n",
       "      <td>2004-01-03</td>\n",
       "      <td>PETRO</td>\n",
       "      <td>410556.13</td>\n",
       "      <td>January</td>\n",
       "      <td>2004</td>\n",
       "    </tr>\n",
       "    <tr>\n",
       "      <th>2</th>\n",
       "      <td>A1</td>\n",
       "      <td>2004-01-15</td>\n",
       "      <td>CLOTHES</td>\n",
       "      <td>23740.46</td>\n",
       "      <td>January</td>\n",
       "      <td>2004</td>\n",
       "    </tr>\n",
       "    <tr>\n",
       "      <th>3</th>\n",
       "      <td>A1</td>\n",
       "      <td>2004-01-25</td>\n",
       "      <td>FOOD</td>\n",
       "      <td>484342.47</td>\n",
       "      <td>January</td>\n",
       "      <td>2004</td>\n",
       "    </tr>\n",
       "    <tr>\n",
       "      <th>4</th>\n",
       "      <td>A1</td>\n",
       "      <td>2005-01-17</td>\n",
       "      <td>CAMERA</td>\n",
       "      <td>369694.07</td>\n",
       "      <td>January</td>\n",
       "      <td>2005</td>\n",
       "    </tr>\n",
       "  </tbody>\n",
       "</table>\n",
       "</div>"
      ],
      "text/plain": [
       "  Customer      Month       Type     Amount  Monthly Yearly\n",
       "0       A1 2004-01-12  JEWELLERY  485470.80  January   2004\n",
       "1       A1 2004-01-03      PETRO  410556.13  January   2004\n",
       "2       A1 2004-01-15    CLOTHES   23740.46  January   2004\n",
       "3       A1 2004-01-25       FOOD  484342.47  January   2004\n",
       "4       A1 2005-01-17     CAMERA  369694.07  January   2005"
      ]
     },
     "execution_count": 69,
     "metadata": {},
     "output_type": "execute_result"
    }
   ],
   "source": [
    "spend.head()"
   ]
  },
  {
   "cell_type": "markdown",
   "id": "c17ae72d",
   "metadata": {},
   "source": [
    "Find all the product , which user has spended its credit card."
   ]
  },
  {
   "cell_type": "markdown",
   "id": "79e28054",
   "metadata": {},
   "source": [
    "# What are the top 5 product types ?"
   ]
  },
  {
   "cell_type": "code",
   "execution_count": 70,
   "id": "9139fe3f",
   "metadata": {},
   "outputs": [
    {
     "data": {
      "text/plain": [
       "PETRO           200\n",
       "FOOD            160\n",
       "CAMERA          160\n",
       "AIR TICKET      147\n",
       "TRAIN TICKET    132\n",
       "SHOPPING        113\n",
       "BUS TICKET       99\n",
       "JEWELLERY        95\n",
       "CLOTHES          95\n",
       "RENTAL           76\n",
       "MOVIE TICKET     76\n",
       "BIKE             49\n",
       "AUTO             40\n",
       "CAR              30\n",
       "SANDALS          28\n",
       "Name: Type, dtype: int64"
      ]
     },
     "execution_count": 70,
     "metadata": {},
     "output_type": "execute_result"
    }
   ],
   "source": [
    "spend['Type'].value_counts()"
   ]
  },
  {
   "cell_type": "markdown",
   "id": "85ed0290",
   "metadata": {},
   "source": [
    "Top 5 product types on which customer is spending.\n",
    "\n",
    "And from this observation we can observed that highest no of credit card spended for purchased on \"Pertol\""
   ]
  },
  {
   "cell_type": "code",
   "execution_count": 71,
   "id": "dedf4e29",
   "metadata": {},
   "outputs": [
    {
     "data": {
      "text/plain": [
       "PETRO           200\n",
       "FOOD            160\n",
       "CAMERA          160\n",
       "AIR TICKET      147\n",
       "TRAIN TICKET    132\n",
       "Name: Type, dtype: int64"
      ]
     },
     "execution_count": 71,
     "metadata": {},
     "output_type": "execute_result"
    }
   ],
   "source": [
    "spend['Type'].value_counts().head()"
   ]
  },
  {
   "cell_type": "code",
   "execution_count": 72,
   "id": "8560a0d1",
   "metadata": {},
   "outputs": [
    {
     "data": {
      "image/png": "[encoded data removed]",
      "text/plain": [
       "<Figure size 432x288 with 1 Axes>"
      ]
     },
     "metadata": {},
     "output_type": "display_data"
    }
   ],
   "source": [
    "spend['Type'].value_counts().head(5).plot(kind='bar')\n",
    "plt.show()"
   ]
  },
  {
   "cell_type": "markdown",
   "id": "f8824995",
   "metadata": {},
   "source": [
    "# Which city is having maximum no. of Cards ?"
   ]
  },
  {
   "cell_type": "code",
   "execution_count": 73,
   "id": "6658e0f0",
   "metadata": {},
   "outputs": [
    {
     "data": {
      "text/html": [
       "<div>\n",
       "<style scoped>\n",
       "    .dataframe tbody tr th:only-of-type {\n",
       "        vertical-align: middle;\n",
       "    }\n",
       "\n",
       "    .dataframe tbody tr th {\n",
       "        vertical-align: top;\n",
       "    }\n",
       "\n",
       "    .dataframe thead th {\n",
       "        text-align: right;\n",
       "    }\n",
       "</style>\n",
       "<table border=\"1\" class=\"dataframe\">\n",
       "  <thead>\n",
       "    <tr style=\"text-align: right;\">\n",
       "      <th></th>\n",
       "      <th>Customer</th>\n",
       "      <th>Age</th>\n",
       "      <th>City</th>\n",
       "      <th>Product</th>\n",
       "      <th>Limit</th>\n",
       "      <th>Company</th>\n",
       "      <th>Segment</th>\n",
       "      <th>Month</th>\n",
       "      <th>Type</th>\n",
       "      <th>Amount</th>\n",
       "    </tr>\n",
       "  </thead>\n",
       "  <tbody>\n",
       "    <tr>\n",
       "      <th>0</th>\n",
       "      <td>A1</td>\n",
       "      <td>76.0</td>\n",
       "      <td>BANGALORE</td>\n",
       "      <td>Gold</td>\n",
       "      <td>500000.0</td>\n",
       "      <td>C1</td>\n",
       "      <td>Self Employed</td>\n",
       "      <td>12-Jan-04</td>\n",
       "      <td>JEWELLERY</td>\n",
       "      <td>485470.80</td>\n",
       "    </tr>\n",
       "    <tr>\n",
       "      <th>1</th>\n",
       "      <td>A1</td>\n",
       "      <td>76.0</td>\n",
       "      <td>BANGALORE</td>\n",
       "      <td>Gold</td>\n",
       "      <td>500000.0</td>\n",
       "      <td>C1</td>\n",
       "      <td>Self Employed</td>\n",
       "      <td>3-Jan-04</td>\n",
       "      <td>PETRO</td>\n",
       "      <td>410556.13</td>\n",
       "    </tr>\n",
       "    <tr>\n",
       "      <th>2</th>\n",
       "      <td>A1</td>\n",
       "      <td>76.0</td>\n",
       "      <td>BANGALORE</td>\n",
       "      <td>Gold</td>\n",
       "      <td>500000.0</td>\n",
       "      <td>C1</td>\n",
       "      <td>Self Employed</td>\n",
       "      <td>15-Jan-04</td>\n",
       "      <td>CLOTHES</td>\n",
       "      <td>23740.46</td>\n",
       "    </tr>\n",
       "    <tr>\n",
       "      <th>3</th>\n",
       "      <td>A1</td>\n",
       "      <td>76.0</td>\n",
       "      <td>BANGALORE</td>\n",
       "      <td>Gold</td>\n",
       "      <td>500000.0</td>\n",
       "      <td>C1</td>\n",
       "      <td>Self Employed</td>\n",
       "      <td>25-Jan-04</td>\n",
       "      <td>FOOD</td>\n",
       "      <td>484342.47</td>\n",
       "    </tr>\n",
       "    <tr>\n",
       "      <th>4</th>\n",
       "      <td>A1</td>\n",
       "      <td>76.0</td>\n",
       "      <td>BANGALORE</td>\n",
       "      <td>Gold</td>\n",
       "      <td>500000.0</td>\n",
       "      <td>C1</td>\n",
       "      <td>Self Employed</td>\n",
       "      <td>17-Jan-05</td>\n",
       "      <td>CAMERA</td>\n",
       "      <td>369694.07</td>\n",
       "    </tr>\n",
       "  </tbody>\n",
       "</table>\n",
       "</div>"
      ],
      "text/plain": [
       "  Customer   Age       City Product     Limit Company        Segment  \\\n",
       "0       A1  76.0  BANGALORE    Gold  500000.0      C1  Self Employed   \n",
       "1       A1  76.0  BANGALORE    Gold  500000.0      C1  Self Employed   \n",
       "2       A1  76.0  BANGALORE    Gold  500000.0      C1  Self Employed   \n",
       "3       A1  76.0  BANGALORE    Gold  500000.0      C1  Self Employed   \n",
       "4       A1  76.0  BANGALORE    Gold  500000.0      C1  Self Employed   \n",
       "\n",
       "       Month       Type     Amount  \n",
       "0  12-Jan-04  JEWELLERY  485470.80  \n",
       "1   3-Jan-04      PETRO  410556.13  \n",
       "2  15-Jan-04    CLOTHES   23740.46  \n",
       "3  25-Jan-04       FOOD  484342.47  \n",
       "4  17-Jan-05     CAMERA  369694.07  "
      ]
     },
     "execution_count": 73,
     "metadata": {},
     "output_type": "execute_result"
    }
   ],
   "source": [
    "customer_spend.head()"
   ]
  },
  {
   "cell_type": "code",
   "execution_count": 74,
   "id": "950a0a29",
   "metadata": {},
   "outputs": [
    {
     "data": {
      "text/plain": [
       "BANGALORE     299\n",
       "COCHIN        298\n",
       "CALCUTTA      251\n",
       "BOMBAY        215\n",
       "CHENNAI       130\n",
       "TRIVANDRUM    112\n",
       "PATNA          98\n",
       "DELHI          97\n",
       "Name: City, dtype: int64"
      ]
     },
     "execution_count": 74,
     "metadata": {},
     "output_type": "execute_result"
    }
   ],
   "source": [
    "customer_spend['City'].value_counts()"
   ]
  },
  {
   "cell_type": "code",
   "execution_count": 75,
   "id": "ec54850b",
   "metadata": {},
   "outputs": [
    {
     "data": {
      "text/plain": [
       "BANGALORE    299\n",
       "COCHIN       298\n",
       "CALCUTTA     251\n",
       "BOMBAY       215\n",
       "CHENNAI      130\n",
       "Name: City, dtype: int64"
      ]
     },
     "execution_count": 75,
     "metadata": {},
     "output_type": "execute_result"
    }
   ],
   "source": [
    "customer_spend['City'].value_counts().head()"
   ]
  },
  {
   "cell_type": "markdown",
   "id": "25e41506",
   "metadata": {},
   "source": [
    "These are Top 5 Cities"
   ]
  },
  {
   "cell_type": "code",
   "execution_count": 76,
   "id": "be33494d",
   "metadata": {},
   "outputs": [
    {
     "data": {
      "image/png": "[encoded data removed]",
      "text/plain": [
       "<Figure size 432x288 with 1 Axes>"
      ]
     },
     "metadata": {},
     "output_type": "display_data"
    }
   ],
   "source": [
    "customer_spend['City'].value_counts().head(5).plot(kind='bar')\n",
    "plt.show()"
   ]
  },
  {
   "cell_type": "markdown",
   "id": "d609fc83",
   "metadata": {},
   "source": [
    "Bangalore city has highest no of sell for credit card."
   ]
  },
  {
   "cell_type": "code",
   "execution_count": 77,
   "id": "84bda2fc",
   "metadata": {},
   "outputs": [
    {
     "name": "stderr",
     "output_type": "stream",
     "text": [
      "C:\\Users\\meabh\\anaconda3\\envs\\py38\\lib\\site-packages\\seaborn\\distributions.py:2619: FutureWarning: `distplot` is a deprecated function and will be removed in a future version. Please adapt your code to use either `displot` (a figure-level function with similar flexibility) or `histplot` (an axes-level function for histograms).\n",
      "  warnings.warn(msg, FutureWarning)\n"
     ]
    },
    {
     "data": {
      "text/plain": [
       "<AxesSubplot:xlabel='Limit', ylabel='Density'>"
      ]
     },
     "execution_count": 77,
     "metadata": {},
     "output_type": "execute_result"
    },
    {
     "data": {
      "image/png": "[encoded data removed]",
      "text/plain": [
       "<Figure size 432x288 with 1 Axes>"
      ]
     },
     "metadata": {},
     "output_type": "display_data"
    }
   ],
   "source": [
    "sns.distplot(customer_spend['Limit'])"
   ]
  },
  {
   "cell_type": "code",
   "execution_count": 78,
   "id": "f1407dc3",
   "metadata": {},
   "outputs": [],
   "source": [
    "city_spend = customer_spend.groupby(\"City\")[\"Amount\"].sum().sort_values(ascending=False)"
   ]
  },
  {
   "cell_type": "code",
   "execution_count": 79,
   "id": "c493822e",
   "metadata": {},
   "outputs": [
    {
     "data": {
      "image/png": "[encoded data removed]",
      "text/plain": [
       "<Figure size 360x720 with 1 Axes>"
      ]
     },
     "metadata": {},
     "output_type": "display_data"
    }
   ],
   "source": [
    "plt.figure(figsize=(5,10))\n",
    "city_spend.plot(kind=\"pie\",autopct=\"%1.0f%%\",shadow=True,labeldistance=1.0,explode=[0.1,0.0,0.0,0.0,0.0,0.0,0.0,0.0])\n",
    "plt.title(\"Amount spent on credit card by customers from different cities\")\n",
    "plt.show()"
   ]
  },
  {
   "cell_type": "code",
   "execution_count": 80,
   "id": "70395332",
   "metadata": {},
   "outputs": [
    {
     "name": "stdout",
     "output_type": "stream",
     "text": [
      "From above pie chart we can see that Cochin is having maximum spend.\n"
     ]
    }
   ],
   "source": [
    "print(\"From above pie chart we can see that Cochin is having maximum spend.\")"
   ]
  },
  {
   "cell_type": "markdown",
   "id": "e2f66aec",
   "metadata": {},
   "source": [
    "# Which age group is spending more money ?"
   ]
  },
  {
   "cell_type": "markdown",
   "id": "286ba03c",
   "metadata": {},
   "source": [
    "Creating new column \"Age Group\" with 8 bins between 18 to 88 "
   ]
  },
  {
   "cell_type": "code",
   "execution_count": 81,
   "id": "2cde44da",
   "metadata": {},
   "outputs": [],
   "source": [
    "customer_spend[\"Age Group\"] =  pd.cut(customer_spend[\"Age\"],bins=np.arange(18,88,8),labels=[\"18-26\",\"26-34\", \"34-42\" ,\"42-50\" ,\"50-58\",\"58-66\",\"66-74\",\"74-82\"],include_lowest=True)"
   ]
  },
  {
   "cell_type": "code",
   "execution_count": 82,
   "id": "fc61b83b",
   "metadata": {},
   "outputs": [
    {
     "data": {
      "text/html": [
       "<div>\n",
       "<style scoped>\n",
       "    .dataframe tbody tr th:only-of-type {\n",
       "        vertical-align: middle;\n",
       "    }\n",
       "\n",
       "    .dataframe tbody tr th {\n",
       "        vertical-align: top;\n",
       "    }\n",
       "\n",
       "    .dataframe thead th {\n",
       "        text-align: right;\n",
       "    }\n",
       "</style>\n",
       "<table border=\"1\" class=\"dataframe\">\n",
       "  <thead>\n",
       "    <tr style=\"text-align: right;\">\n",
       "      <th></th>\n",
       "      <th>Customer</th>\n",
       "      <th>Age</th>\n",
       "      <th>City</th>\n",
       "      <th>Product</th>\n",
       "      <th>Limit</th>\n",
       "      <th>Company</th>\n",
       "      <th>Segment</th>\n",
       "      <th>Month</th>\n",
       "      <th>Type</th>\n",
       "      <th>Amount</th>\n",
       "      <th>Age Group</th>\n",
       "    </tr>\n",
       "  </thead>\n",
       "  <tbody>\n",
       "    <tr>\n",
       "      <th>0</th>\n",
       "      <td>A1</td>\n",
       "      <td>76.0</td>\n",
       "      <td>BANGALORE</td>\n",
       "      <td>Gold</td>\n",
       "      <td>500000.0</td>\n",
       "      <td>C1</td>\n",
       "      <td>Self Employed</td>\n",
       "      <td>12-Jan-04</td>\n",
       "      <td>JEWELLERY</td>\n",
       "      <td>485470.80</td>\n",
       "      <td>74-82</td>\n",
       "    </tr>\n",
       "    <tr>\n",
       "      <th>1</th>\n",
       "      <td>A1</td>\n",
       "      <td>76.0</td>\n",
       "      <td>BANGALORE</td>\n",
       "      <td>Gold</td>\n",
       "      <td>500000.0</td>\n",
       "      <td>C1</td>\n",
       "      <td>Self Employed</td>\n",
       "      <td>3-Jan-04</td>\n",
       "      <td>PETRO</td>\n",
       "      <td>410556.13</td>\n",
       "      <td>74-82</td>\n",
       "    </tr>\n",
       "    <tr>\n",
       "      <th>2</th>\n",
       "      <td>A1</td>\n",
       "      <td>76.0</td>\n",
       "      <td>BANGALORE</td>\n",
       "      <td>Gold</td>\n",
       "      <td>500000.0</td>\n",
       "      <td>C1</td>\n",
       "      <td>Self Employed</td>\n",
       "      <td>15-Jan-04</td>\n",
       "      <td>CLOTHES</td>\n",
       "      <td>23740.46</td>\n",
       "      <td>74-82</td>\n",
       "    </tr>\n",
       "    <tr>\n",
       "      <th>3</th>\n",
       "      <td>A1</td>\n",
       "      <td>76.0</td>\n",
       "      <td>BANGALORE</td>\n",
       "      <td>Gold</td>\n",
       "      <td>500000.0</td>\n",
       "      <td>C1</td>\n",
       "      <td>Self Employed</td>\n",
       "      <td>25-Jan-04</td>\n",
       "      <td>FOOD</td>\n",
       "      <td>484342.47</td>\n",
       "      <td>74-82</td>\n",
       "    </tr>\n",
       "    <tr>\n",
       "      <th>4</th>\n",
       "      <td>A1</td>\n",
       "      <td>76.0</td>\n",
       "      <td>BANGALORE</td>\n",
       "      <td>Gold</td>\n",
       "      <td>500000.0</td>\n",
       "      <td>C1</td>\n",
       "      <td>Self Employed</td>\n",
       "      <td>17-Jan-05</td>\n",
       "      <td>CAMERA</td>\n",
       "      <td>369694.07</td>\n",
       "      <td>74-82</td>\n",
       "    </tr>\n",
       "  </tbody>\n",
       "</table>\n",
       "</div>"
      ],
      "text/plain": [
       "  Customer   Age       City Product     Limit Company        Segment  \\\n",
       "0       A1  76.0  BANGALORE    Gold  500000.0      C1  Self Employed   \n",
       "1       A1  76.0  BANGALORE    Gold  500000.0      C1  Self Employed   \n",
       "2       A1  76.0  BANGALORE    Gold  500000.0      C1  Self Employed   \n",
       "3       A1  76.0  BANGALORE    Gold  500000.0      C1  Self Employed   \n",
       "4       A1  76.0  BANGALORE    Gold  500000.0      C1  Self Employed   \n",
       "\n",
       "       Month       Type     Amount Age Group  \n",
       "0  12-Jan-04  JEWELLERY  485470.80     74-82  \n",
       "1   3-Jan-04      PETRO  410556.13     74-82  \n",
       "2  15-Jan-04    CLOTHES   23740.46     74-82  \n",
       "3  25-Jan-04       FOOD  484342.47     74-82  \n",
       "4  17-Jan-05     CAMERA  369694.07     74-82  "
      ]
     },
     "execution_count": 82,
     "metadata": {},
     "output_type": "execute_result"
    }
   ],
   "source": [
    "customer_spend.head()"
   ]
  },
  {
   "cell_type": "code",
   "execution_count": 83,
   "id": "edb95a8d",
   "metadata": {},
   "outputs": [],
   "source": [
    "# Grouping data based on \"Age Group\" and finding the amount spend by each age group and arranging in descending ordered\n",
    "\n",
    "age_spend = customer_spend.groupby(\"Age Group\")['Amount'].sum().sort_values(ascending=False)"
   ]
  },
  {
   "cell_type": "code",
   "execution_count": 84,
   "id": "aea51ede",
   "metadata": {},
   "outputs": [
    {
     "data": {
      "text/plain": [
       "Age Group\n",
       "42-50    53242390.70\n",
       "34-42    38037826.50\n",
       "26-34    30553459.81\n",
       "18-26    25233896.65\n",
       "50-58    22454066.68\n",
       "74-82    19770884.32\n",
       "66-74    17705877.44\n",
       "58-66    12782683.13\n",
       "Name: Amount, dtype: float64"
      ]
     },
     "execution_count": 84,
     "metadata": {},
     "output_type": "execute_result"
    }
   ],
   "source": [
    "age_spend"
   ]
  },
  {
   "cell_type": "code",
   "execution_count": 85,
   "id": "2703890a",
   "metadata": {},
   "outputs": [
    {
     "data": {
      "image/png": "[encoded data removed]",
      "text/plain": [
       "<Figure size 360x720 with 1 Axes>"
      ]
     },
     "metadata": {},
     "output_type": "display_data"
    }
   ],
   "source": [
    "plt.figure(figsize=(5,10))\n",
    "age_spend.plot(kind = \"pie\",autopct=\"%1.0f%%\",explode=[0.1,0.0,0.0,0.0,0.0,0.0,0.0,0.0],shadow=True)\n",
    "plt.show()"
   ]
  },
  {
   "cell_type": "code",
   "execution_count": 86,
   "id": "ba5646b4",
   "metadata": {},
   "outputs": [
    {
     "name": "stdout",
     "output_type": "stream",
     "text": [
      "From the pie chart shown above we can say that age group 42 - 50 is spending more money\n"
     ]
    }
   ],
   "source": [
    "print(\"From the pie chart shown above we can say that age group 42 - 50 is spending more money\")"
   ]
  },
  {
   "cell_type": "markdown",
   "id": "2e9d633e",
   "metadata": {},
   "source": [
    "# Who are the top 10 customers in terms of repayment ?"
   ]
  },
  {
   "cell_type": "code",
   "execution_count": 87,
   "id": "146b8463",
   "metadata": {},
   "outputs": [
    {
     "data": {
      "text/html": [
       "<div>\n",
       "<style scoped>\n",
       "    .dataframe tbody tr th:only-of-type {\n",
       "        vertical-align: middle;\n",
       "    }\n",
       "\n",
       "    .dataframe tbody tr th {\n",
       "        vertical-align: top;\n",
       "    }\n",
       "\n",
       "    .dataframe thead th {\n",
       "        text-align: right;\n",
       "    }\n",
       "</style>\n",
       "<table border=\"1\" class=\"dataframe\">\n",
       "  <thead>\n",
       "    <tr style=\"text-align: right;\">\n",
       "      <th></th>\n",
       "      <th>Customer</th>\n",
       "      <th>Month</th>\n",
       "      <th>Amount</th>\n",
       "      <th>Age</th>\n",
       "      <th>City</th>\n",
       "      <th>Product</th>\n",
       "      <th>Limit</th>\n",
       "      <th>Company</th>\n",
       "      <th>Segment</th>\n",
       "    </tr>\n",
       "  </thead>\n",
       "  <tbody>\n",
       "    <tr>\n",
       "      <th>0</th>\n",
       "      <td>A1</td>\n",
       "      <td>12-Jan-04</td>\n",
       "      <td>495414.75</td>\n",
       "      <td>76.0</td>\n",
       "      <td>BANGALORE</td>\n",
       "      <td>Gold</td>\n",
       "      <td>500000.0</td>\n",
       "      <td>C1</td>\n",
       "      <td>Self Employed</td>\n",
       "    </tr>\n",
       "    <tr>\n",
       "      <th>1</th>\n",
       "      <td>A1</td>\n",
       "      <td>3-Jan-04</td>\n",
       "      <td>245899.02</td>\n",
       "      <td>76.0</td>\n",
       "      <td>BANGALORE</td>\n",
       "      <td>Gold</td>\n",
       "      <td>500000.0</td>\n",
       "      <td>C1</td>\n",
       "      <td>Self Employed</td>\n",
       "    </tr>\n",
       "    <tr>\n",
       "      <th>2</th>\n",
       "      <td>A1</td>\n",
       "      <td>15-Jan-04</td>\n",
       "      <td>259490.06</td>\n",
       "      <td>76.0</td>\n",
       "      <td>BANGALORE</td>\n",
       "      <td>Gold</td>\n",
       "      <td>500000.0</td>\n",
       "      <td>C1</td>\n",
       "      <td>Self Employed</td>\n",
       "    </tr>\n",
       "    <tr>\n",
       "      <th>3</th>\n",
       "      <td>A1</td>\n",
       "      <td>25-Jan-04</td>\n",
       "      <td>437555.12</td>\n",
       "      <td>76.0</td>\n",
       "      <td>BANGALORE</td>\n",
       "      <td>Gold</td>\n",
       "      <td>500000.0</td>\n",
       "      <td>C1</td>\n",
       "      <td>Self Employed</td>\n",
       "    </tr>\n",
       "    <tr>\n",
       "      <th>4</th>\n",
       "      <td>A1</td>\n",
       "      <td>17-Jan-05</td>\n",
       "      <td>165972.88</td>\n",
       "      <td>76.0</td>\n",
       "      <td>BANGALORE</td>\n",
       "      <td>Gold</td>\n",
       "      <td>500000.0</td>\n",
       "      <td>C1</td>\n",
       "      <td>Self Employed</td>\n",
       "    </tr>\n",
       "  </tbody>\n",
       "</table>\n",
       "</div>"
      ],
      "text/plain": [
       "  Customer      Month     Amount   Age       City Product     Limit Company  \\\n",
       "0       A1  12-Jan-04  495414.75  76.0  BANGALORE    Gold  500000.0      C1   \n",
       "1       A1   3-Jan-04  245899.02  76.0  BANGALORE    Gold  500000.0      C1   \n",
       "2       A1  15-Jan-04  259490.06  76.0  BANGALORE    Gold  500000.0      C1   \n",
       "3       A1  25-Jan-04  437555.12  76.0  BANGALORE    Gold  500000.0      C1   \n",
       "4       A1  17-Jan-05  165972.88  76.0  BANGALORE    Gold  500000.0      C1   \n",
       "\n",
       "         Segment  \n",
       "0  Self Employed  \n",
       "1  Self Employed  \n",
       "2  Self Employed  \n",
       "3  Self Employed  \n",
       "4  Self Employed  "
      ]
     },
     "execution_count": 87,
     "metadata": {},
     "output_type": "execute_result"
    }
   ],
   "source": [
    "customer_repay.head()"
   ]
  },
  {
   "cell_type": "code",
   "execution_count": 88,
   "id": "fd7a4403",
   "metadata": {},
   "outputs": [
    {
     "data": {
      "text/html": [
       "<div>\n",
       "<style scoped>\n",
       "    .dataframe tbody tr th:only-of-type {\n",
       "        vertical-align: middle;\n",
       "    }\n",
       "\n",
       "    .dataframe tbody tr th {\n",
       "        vertical-align: top;\n",
       "    }\n",
       "\n",
       "    .dataframe thead th {\n",
       "        text-align: right;\n",
       "    }\n",
       "</style>\n",
       "<table border=\"1\" class=\"dataframe\">\n",
       "  <thead>\n",
       "    <tr style=\"text-align: right;\">\n",
       "      <th></th>\n",
       "      <th>Amount</th>\n",
       "    </tr>\n",
       "    <tr>\n",
       "      <th>Customer</th>\n",
       "      <th></th>\n",
       "    </tr>\n",
       "  </thead>\n",
       "  <tbody>\n",
       "    <tr>\n",
       "      <th>A61</th>\n",
       "      <td>10539142.91</td>\n",
       "    </tr>\n",
       "    <tr>\n",
       "      <th>A60</th>\n",
       "      <td>9876290.74</td>\n",
       "    </tr>\n",
       "    <tr>\n",
       "      <th>A13</th>\n",
       "      <td>9572000.66</td>\n",
       "    </tr>\n",
       "    <tr>\n",
       "      <th>A43</th>\n",
       "      <td>8489871.46</td>\n",
       "    </tr>\n",
       "    <tr>\n",
       "      <th>A45</th>\n",
       "      <td>8448334.87</td>\n",
       "    </tr>\n",
       "    <tr>\n",
       "      <th>A12</th>\n",
       "      <td>8334760.16</td>\n",
       "    </tr>\n",
       "    <tr>\n",
       "      <th>A14</th>\n",
       "      <td>7943268.63</td>\n",
       "    </tr>\n",
       "    <tr>\n",
       "      <th>A44</th>\n",
       "      <td>7744730.12</td>\n",
       "    </tr>\n",
       "    <tr>\n",
       "      <th>A39</th>\n",
       "      <td>7622483.30</td>\n",
       "    </tr>\n",
       "    <tr>\n",
       "      <th>A42</th>\n",
       "      <td>7615460.86</td>\n",
       "    </tr>\n",
       "  </tbody>\n",
       "</table>\n",
       "</div>"
      ],
      "text/plain": [
       "               Amount\n",
       "Customer             \n",
       "A61       10539142.91\n",
       "A60        9876290.74\n",
       "A13        9572000.66\n",
       "A43        8489871.46\n",
       "A45        8448334.87\n",
       "A12        8334760.16\n",
       "A14        7943268.63\n",
       "A44        7744730.12\n",
       "A39        7622483.30\n",
       "A42        7615460.86"
      ]
     },
     "execution_count": 88,
     "metadata": {},
     "output_type": "execute_result"
    }
   ],
   "source": [
    "# Grouping based on \"Customer\" column to find top 10 customers\n",
    "\n",
    "customer_repay.groupby(\"Customer\")[[\"Amount\"]].sum().sort_values(by=\"Amount\",ascending=False).head(10)"
   ]
  },
  {
   "cell_type": "code",
   "execution_count": 89,
   "id": "65f9e1d8",
   "metadata": {},
   "outputs": [
    {
     "data": {
      "text/plain": [
       "Gold        610\n",
       "Platimum    570\n",
       "Silver      320\n",
       "Name: Product, dtype: int64"
      ]
     },
     "execution_count": 89,
     "metadata": {},
     "output_type": "execute_result"
    }
   ],
   "source": [
    "customer_repay['Product'].value_counts()"
   ]
  },
  {
   "cell_type": "code",
   "execution_count": 90,
   "id": "e211c106",
   "metadata": {},
   "outputs": [
    {
     "data": {
      "image/png": "[encoded data removed]",
      "text/plain": [
       "<Figure size 432x288 with 1 Axes>"
      ]
     },
     "metadata": {},
     "output_type": "display_data"
    }
   ],
   "source": [
    "customer_repay['Product'].value_counts().plot(kind='bar')\n",
    "plt.show()"
   ]
  },
  {
   "cell_type": "markdown",
   "id": "74f04e0c",
   "metadata": {},
   "source": [
    "From this , we can observed \"Gold\" product membership is the most popular than the others"
   ]
  },
  {
   "cell_type": "code",
   "execution_count": null,
   "id": "daa86bb0",
   "metadata": {},
   "outputs": [],
   "source": []
  }
 ],
 "metadata": {
  "kernelspec": {
   "display_name": "Python 3 (ipykernel)",
   "language": "python",
   "name": "python3"
  },
  "language_info": {
   "codemirror_mode": {
    "name": "ipython",
    "version": 3
   },
   "file_extension": ".py",
   "mimetype": "text/x-python",
   "name": "python",
   "nbconvert_exporter": "python",
   "pygments_lexer": "ipython3",
   "version": "3.8.12"
  }
 },
 "nbformat": 4,
 "nbformat_minor": 5
}
